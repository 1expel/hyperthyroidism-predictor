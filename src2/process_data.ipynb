{
 "cells": [
  {
   "cell_type": "markdown",
   "id": "fae87f07-a71e-485f-8d1a-844cc6c0a50f",
   "metadata": {},
   "source": [
    "# Import Libraries and Data"
   ]
  },
  {
   "cell_type": "code",
   "execution_count": 865,
   "id": "7c0c3da1-ff4f-4113-9464-070e1262f811",
   "metadata": {},
   "outputs": [],
   "source": [
    "import pandas as pd, numpy as np"
   ]
  },
  {
   "cell_type": "code",
   "execution_count": 866,
   "id": "47433571-fe96-4ae5-a50b-bd58e4758d80",
   "metadata": {},
   "outputs": [],
   "source": [
    "train_data = pd.read_csv(\"allhyperdata.csv\")\n",
    "test_data = pd.read_csv(\"allhypertest.csv\")"
   ]
  },
  {
   "cell_type": "markdown",
   "id": "6fd10997-bb8d-49f9-a71e-4d240e3e288a",
   "metadata": {},
   "source": [
    "# Analyze Data pt. 1"
   ]
  },
  {
   "cell_type": "markdown",
   "id": "5d0f823f-ab05-45d3-9c7c-4fee6ed42456",
   "metadata": {
    "jp-MarkdownHeadingCollapsed": true
   },
   "source": [
    "### shape"
   ]
  },
  {
   "cell_type": "code",
   "execution_count": 867,
   "id": "42c4b9d8-9b97-45ec-a1f5-46ea3c4d4689",
   "metadata": {},
   "outputs": [
    {
     "data": {
      "text/plain": [
       "(2800, 30)"
      ]
     },
     "execution_count": 867,
     "metadata": {},
     "output_type": "execute_result"
    }
   ],
   "source": [
    "train_data.shape"
   ]
  },
  {
   "cell_type": "code",
   "execution_count": 868,
   "id": "65324930-fabe-44cb-9d3d-270194790fd8",
   "metadata": {},
   "outputs": [
    {
     "data": {
      "text/plain": [
       "(972, 30)"
      ]
     },
     "execution_count": 868,
     "metadata": {},
     "output_type": "execute_result"
    }
   ],
   "source": [
    "test_data.shape"
   ]
  },
  {
   "cell_type": "markdown",
   "id": "5af4302e-5446-46b2-9044-96f366fceb11",
   "metadata": {
    "jp-MarkdownHeadingCollapsed": true
   },
   "source": [
    "### columns"
   ]
  },
  {
   "cell_type": "code",
   "execution_count": 869,
   "id": "a9fae02a-c4a0-4b14-8eae-b46371e82d94",
   "metadata": {},
   "outputs": [
    {
     "data": {
      "text/plain": [
       "Index(['Age', 'Sex', 'On Thyroxine', 'Query on Thyroxine',\n",
       "       'On Antithyroid Medication', 'Sick', 'Pregnant', 'Thyroid Surgery',\n",
       "       'I131 Treatement', 'Query Hypothyriod', 'Query Hyperthyriod', 'Lithium',\n",
       "       'Goitre', 'Tumor', 'Hypopituitary', 'Psych', 'TSH Measured', 'TSH',\n",
       "       'T3 Measured', 'T3', 'TT4 Measured', 'TT4', 'T4U Measured', 'T4U',\n",
       "       'FTI Measured', 'FTI', 'TBG Measured', 'TBG', 'Referral Source',\n",
       "       'Result'],\n",
       "      dtype='object')"
      ]
     },
     "execution_count": 869,
     "metadata": {},
     "output_type": "execute_result"
    }
   ],
   "source": [
    "train_data.columns"
   ]
  },
  {
   "cell_type": "code",
   "execution_count": 870,
   "id": "10b15288-22bf-462e-86a8-affa39754290",
   "metadata": {},
   "outputs": [
    {
     "data": {
      "text/plain": [
       "Index(['Age', 'Sex', 'On Thyroxine', 'Query on Thyroxine',\n",
       "       'On Antithyroid Medication', 'Sick', 'Pregnant', 'Thyroid Surgery',\n",
       "       'I131 Treatement', 'Query Hypothyriod', 'Query Hyperthyriod', 'Lithium',\n",
       "       'Goitre', 'Tumor', 'Hypopituitary', 'Psych', 'TSH Measured', 'TSH',\n",
       "       'T3 Measured', 'T3', 'TT4 Measured', 'TT4', 'T4U Measured', 'T4U',\n",
       "       'FTI Measured', 'FTI', 'TBG Measured', 'TBG', 'Referral Source',\n",
       "       'Result'],\n",
       "      dtype='object')"
      ]
     },
     "execution_count": 870,
     "metadata": {},
     "output_type": "execute_result"
    }
   ],
   "source": [
    "test_data.columns"
   ]
  },
  {
   "cell_type": "markdown",
   "id": "2fd72e6b-bb3b-4b95-8a5d-db6775e66ccc",
   "metadata": {
    "jp-MarkdownHeadingCollapsed": true
   },
   "source": [
    "### ensure column names match"
   ]
  },
  {
   "cell_type": "code",
   "execution_count": 871,
   "id": "dcc43248-5cd8-4652-a198-3828688f8e00",
   "metadata": {},
   "outputs": [
    {
     "data": {
      "text/plain": [
       "array([ True,  True,  True,  True,  True,  True,  True,  True,  True,\n",
       "        True,  True,  True,  True,  True,  True,  True,  True,  True,\n",
       "        True,  True,  True,  True,  True,  True,  True,  True,  True,\n",
       "        True,  True,  True])"
      ]
     },
     "execution_count": 871,
     "metadata": {},
     "output_type": "execute_result"
    }
   ],
   "source": [
    "train_data.columns == test_data.columns"
   ]
  },
  {
   "cell_type": "markdown",
   "id": "a09ab786-c655-402b-b37f-c6c1b021d731",
   "metadata": {
    "jp-MarkdownHeadingCollapsed": true
   },
   "source": [
    "### adjust head() to show 50 columns"
   ]
  },
  {
   "cell_type": "code",
   "execution_count": 872,
   "id": "e40fb5a5-998f-4319-9220-4daeadd8954c",
   "metadata": {},
   "outputs": [],
   "source": [
    "pd.set_option('display.max_columns', 50)"
   ]
  },
  {
   "cell_type": "markdown",
   "id": "945c7b72-01c6-4063-acd0-98586d138022",
   "metadata": {
    "jp-MarkdownHeadingCollapsed": true
   },
   "source": [
    "### head()"
   ]
  },
  {
   "cell_type": "code",
   "execution_count": 873,
   "id": "7da60db4-59b8-49f7-96ee-fe82f271008b",
   "metadata": {},
   "outputs": [
    {
     "data": {
      "text/html": [
       "<div>\n",
       "<style scoped>\n",
       "    .dataframe tbody tr th:only-of-type {\n",
       "        vertical-align: middle;\n",
       "    }\n",
       "\n",
       "    .dataframe tbody tr th {\n",
       "        vertical-align: top;\n",
       "    }\n",
       "\n",
       "    .dataframe thead th {\n",
       "        text-align: right;\n",
       "    }\n",
       "</style>\n",
       "<table border=\"1\" class=\"dataframe\">\n",
       "  <thead>\n",
       "    <tr style=\"text-align: right;\">\n",
       "      <th></th>\n",
       "      <th>Age</th>\n",
       "      <th>Sex</th>\n",
       "      <th>On Thyroxine</th>\n",
       "      <th>Query on Thyroxine</th>\n",
       "      <th>On Antithyroid Medication</th>\n",
       "      <th>Sick</th>\n",
       "      <th>Pregnant</th>\n",
       "      <th>Thyroid Surgery</th>\n",
       "      <th>I131 Treatement</th>\n",
       "      <th>Query Hypothyriod</th>\n",
       "      <th>Query Hyperthyriod</th>\n",
       "      <th>Lithium</th>\n",
       "      <th>Goitre</th>\n",
       "      <th>Tumor</th>\n",
       "      <th>Hypopituitary</th>\n",
       "      <th>Psych</th>\n",
       "      <th>TSH Measured</th>\n",
       "      <th>TSH</th>\n",
       "      <th>T3 Measured</th>\n",
       "      <th>T3</th>\n",
       "      <th>TT4 Measured</th>\n",
       "      <th>TT4</th>\n",
       "      <th>T4U Measured</th>\n",
       "      <th>T4U</th>\n",
       "      <th>FTI Measured</th>\n",
       "      <th>FTI</th>\n",
       "      <th>TBG Measured</th>\n",
       "      <th>TBG</th>\n",
       "      <th>Referral Source</th>\n",
       "      <th>Result</th>\n",
       "    </tr>\n",
       "  </thead>\n",
       "  <tbody>\n",
       "    <tr>\n",
       "      <th>0</th>\n",
       "      <td>41</td>\n",
       "      <td>F</td>\n",
       "      <td>f</td>\n",
       "      <td>f</td>\n",
       "      <td>f</td>\n",
       "      <td>f</td>\n",
       "      <td>f</td>\n",
       "      <td>f</td>\n",
       "      <td>f</td>\n",
       "      <td>f</td>\n",
       "      <td>f</td>\n",
       "      <td>f</td>\n",
       "      <td>f</td>\n",
       "      <td>f</td>\n",
       "      <td>f</td>\n",
       "      <td>f</td>\n",
       "      <td>t</td>\n",
       "      <td>1.3</td>\n",
       "      <td>t</td>\n",
       "      <td>2.5</td>\n",
       "      <td>t</td>\n",
       "      <td>125</td>\n",
       "      <td>t</td>\n",
       "      <td>1.14</td>\n",
       "      <td>t</td>\n",
       "      <td>109</td>\n",
       "      <td>f</td>\n",
       "      <td>?</td>\n",
       "      <td>SVHC</td>\n",
       "      <td>negative.|3733</td>\n",
       "    </tr>\n",
       "    <tr>\n",
       "      <th>1</th>\n",
       "      <td>23</td>\n",
       "      <td>F</td>\n",
       "      <td>f</td>\n",
       "      <td>f</td>\n",
       "      <td>f</td>\n",
       "      <td>f</td>\n",
       "      <td>f</td>\n",
       "      <td>f</td>\n",
       "      <td>f</td>\n",
       "      <td>f</td>\n",
       "      <td>f</td>\n",
       "      <td>f</td>\n",
       "      <td>f</td>\n",
       "      <td>f</td>\n",
       "      <td>f</td>\n",
       "      <td>f</td>\n",
       "      <td>t</td>\n",
       "      <td>4.1</td>\n",
       "      <td>t</td>\n",
       "      <td>2</td>\n",
       "      <td>t</td>\n",
       "      <td>102</td>\n",
       "      <td>f</td>\n",
       "      <td>?</td>\n",
       "      <td>f</td>\n",
       "      <td>?</td>\n",
       "      <td>f</td>\n",
       "      <td>?</td>\n",
       "      <td>other</td>\n",
       "      <td>negative.|1442</td>\n",
       "    </tr>\n",
       "    <tr>\n",
       "      <th>2</th>\n",
       "      <td>46</td>\n",
       "      <td>M</td>\n",
       "      <td>f</td>\n",
       "      <td>f</td>\n",
       "      <td>f</td>\n",
       "      <td>f</td>\n",
       "      <td>f</td>\n",
       "      <td>f</td>\n",
       "      <td>f</td>\n",
       "      <td>f</td>\n",
       "      <td>f</td>\n",
       "      <td>f</td>\n",
       "      <td>f</td>\n",
       "      <td>f</td>\n",
       "      <td>f</td>\n",
       "      <td>f</td>\n",
       "      <td>t</td>\n",
       "      <td>0.98</td>\n",
       "      <td>f</td>\n",
       "      <td>?</td>\n",
       "      <td>t</td>\n",
       "      <td>109</td>\n",
       "      <td>t</td>\n",
       "      <td>0.91</td>\n",
       "      <td>t</td>\n",
       "      <td>120</td>\n",
       "      <td>f</td>\n",
       "      <td>?</td>\n",
       "      <td>other</td>\n",
       "      <td>negative.|2965</td>\n",
       "    </tr>\n",
       "    <tr>\n",
       "      <th>3</th>\n",
       "      <td>70</td>\n",
       "      <td>F</td>\n",
       "      <td>t</td>\n",
       "      <td>f</td>\n",
       "      <td>f</td>\n",
       "      <td>f</td>\n",
       "      <td>f</td>\n",
       "      <td>f</td>\n",
       "      <td>f</td>\n",
       "      <td>f</td>\n",
       "      <td>f</td>\n",
       "      <td>f</td>\n",
       "      <td>f</td>\n",
       "      <td>f</td>\n",
       "      <td>f</td>\n",
       "      <td>f</td>\n",
       "      <td>t</td>\n",
       "      <td>0.16</td>\n",
       "      <td>t</td>\n",
       "      <td>1.9</td>\n",
       "      <td>t</td>\n",
       "      <td>175</td>\n",
       "      <td>f</td>\n",
       "      <td>?</td>\n",
       "      <td>f</td>\n",
       "      <td>?</td>\n",
       "      <td>f</td>\n",
       "      <td>?</td>\n",
       "      <td>other</td>\n",
       "      <td>negative.|806</td>\n",
       "    </tr>\n",
       "    <tr>\n",
       "      <th>4</th>\n",
       "      <td>70</td>\n",
       "      <td>F</td>\n",
       "      <td>f</td>\n",
       "      <td>f</td>\n",
       "      <td>f</td>\n",
       "      <td>f</td>\n",
       "      <td>f</td>\n",
       "      <td>f</td>\n",
       "      <td>f</td>\n",
       "      <td>f</td>\n",
       "      <td>f</td>\n",
       "      <td>f</td>\n",
       "      <td>f</td>\n",
       "      <td>f</td>\n",
       "      <td>f</td>\n",
       "      <td>f</td>\n",
       "      <td>t</td>\n",
       "      <td>0.72</td>\n",
       "      <td>t</td>\n",
       "      <td>1.2</td>\n",
       "      <td>t</td>\n",
       "      <td>61</td>\n",
       "      <td>t</td>\n",
       "      <td>0.87</td>\n",
       "      <td>t</td>\n",
       "      <td>70</td>\n",
       "      <td>f</td>\n",
       "      <td>?</td>\n",
       "      <td>SVI</td>\n",
       "      <td>negative.|2807</td>\n",
       "    </tr>\n",
       "  </tbody>\n",
       "</table>\n",
       "</div>"
      ],
      "text/plain": [
       "  Age Sex On Thyroxine Query on Thyroxine On Antithyroid Medication Sick  \\\n",
       "0  41   F            f                  f                         f    f   \n",
       "1  23   F            f                  f                         f    f   \n",
       "2  46   M            f                  f                         f    f   \n",
       "3  70   F            t                  f                         f    f   \n",
       "4  70   F            f                  f                         f    f   \n",
       "\n",
       "  Pregnant Thyroid Surgery I131 Treatement Query Hypothyriod  \\\n",
       "0        f               f               f                 f   \n",
       "1        f               f               f                 f   \n",
       "2        f               f               f                 f   \n",
       "3        f               f               f                 f   \n",
       "4        f               f               f                 f   \n",
       "\n",
       "  Query Hyperthyriod Lithium Goitre Tumor Hypopituitary Psych TSH Measured  \\\n",
       "0                  f       f      f     f             f     f            t   \n",
       "1                  f       f      f     f             f     f            t   \n",
       "2                  f       f      f     f             f     f            t   \n",
       "3                  f       f      f     f             f     f            t   \n",
       "4                  f       f      f     f             f     f            t   \n",
       "\n",
       "    TSH T3 Measured   T3 TT4 Measured  TT4 T4U Measured   T4U FTI Measured  \\\n",
       "0   1.3           t  2.5            t  125            t  1.14            t   \n",
       "1   4.1           t    2            t  102            f     ?            f   \n",
       "2  0.98           f    ?            t  109            t  0.91            t   \n",
       "3  0.16           t  1.9            t  175            f     ?            f   \n",
       "4  0.72           t  1.2            t   61            t  0.87            t   \n",
       "\n",
       "   FTI TBG Measured TBG Referral Source          Result  \n",
       "0  109            f   ?            SVHC  negative.|3733  \n",
       "1    ?            f   ?           other  negative.|1442  \n",
       "2  120            f   ?           other  negative.|2965  \n",
       "3    ?            f   ?           other   negative.|806  \n",
       "4   70            f   ?             SVI  negative.|2807  "
      ]
     },
     "execution_count": 873,
     "metadata": {},
     "output_type": "execute_result"
    }
   ],
   "source": [
    "train_data.head()"
   ]
  },
  {
   "cell_type": "code",
   "execution_count": 874,
   "id": "18d2b301-8272-47b9-b942-6a264b145ddb",
   "metadata": {},
   "outputs": [
    {
     "data": {
      "text/html": [
       "<div>\n",
       "<style scoped>\n",
       "    .dataframe tbody tr th:only-of-type {\n",
       "        vertical-align: middle;\n",
       "    }\n",
       "\n",
       "    .dataframe tbody tr th {\n",
       "        vertical-align: top;\n",
       "    }\n",
       "\n",
       "    .dataframe thead th {\n",
       "        text-align: right;\n",
       "    }\n",
       "</style>\n",
       "<table border=\"1\" class=\"dataframe\">\n",
       "  <thead>\n",
       "    <tr style=\"text-align: right;\">\n",
       "      <th></th>\n",
       "      <th>Age</th>\n",
       "      <th>Sex</th>\n",
       "      <th>On Thyroxine</th>\n",
       "      <th>Query on Thyroxine</th>\n",
       "      <th>On Antithyroid Medication</th>\n",
       "      <th>Sick</th>\n",
       "      <th>Pregnant</th>\n",
       "      <th>Thyroid Surgery</th>\n",
       "      <th>I131 Treatement</th>\n",
       "      <th>Query Hypothyriod</th>\n",
       "      <th>Query Hyperthyriod</th>\n",
       "      <th>Lithium</th>\n",
       "      <th>Goitre</th>\n",
       "      <th>Tumor</th>\n",
       "      <th>Hypopituitary</th>\n",
       "      <th>Psych</th>\n",
       "      <th>TSH Measured</th>\n",
       "      <th>TSH</th>\n",
       "      <th>T3 Measured</th>\n",
       "      <th>T3</th>\n",
       "      <th>TT4 Measured</th>\n",
       "      <th>TT4</th>\n",
       "      <th>T4U Measured</th>\n",
       "      <th>T4U</th>\n",
       "      <th>FTI Measured</th>\n",
       "      <th>FTI</th>\n",
       "      <th>TBG Measured</th>\n",
       "      <th>TBG</th>\n",
       "      <th>Referral Source</th>\n",
       "      <th>Result</th>\n",
       "    </tr>\n",
       "  </thead>\n",
       "  <tbody>\n",
       "    <tr>\n",
       "      <th>0</th>\n",
       "      <td>35</td>\n",
       "      <td>F</td>\n",
       "      <td>f</td>\n",
       "      <td>f</td>\n",
       "      <td>f</td>\n",
       "      <td>f</td>\n",
       "      <td>f</td>\n",
       "      <td>f</td>\n",
       "      <td>f</td>\n",
       "      <td>f</td>\n",
       "      <td>f</td>\n",
       "      <td>f</td>\n",
       "      <td>f</td>\n",
       "      <td>f</td>\n",
       "      <td>f</td>\n",
       "      <td>f</td>\n",
       "      <td>f</td>\n",
       "      <td>?</td>\n",
       "      <td>f</td>\n",
       "      <td>?</td>\n",
       "      <td>f</td>\n",
       "      <td>?</td>\n",
       "      <td>f</td>\n",
       "      <td>?</td>\n",
       "      <td>f</td>\n",
       "      <td>?</td>\n",
       "      <td>f</td>\n",
       "      <td>?</td>\n",
       "      <td>other</td>\n",
       "      <td>negative.|219</td>\n",
       "    </tr>\n",
       "    <tr>\n",
       "      <th>1</th>\n",
       "      <td>63</td>\n",
       "      <td>M</td>\n",
       "      <td>f</td>\n",
       "      <td>f</td>\n",
       "      <td>f</td>\n",
       "      <td>f</td>\n",
       "      <td>f</td>\n",
       "      <td>f</td>\n",
       "      <td>f</td>\n",
       "      <td>f</td>\n",
       "      <td>f</td>\n",
       "      <td>f</td>\n",
       "      <td>f</td>\n",
       "      <td>f</td>\n",
       "      <td>f</td>\n",
       "      <td>f</td>\n",
       "      <td>t</td>\n",
       "      <td>3.5</td>\n",
       "      <td>t</td>\n",
       "      <td>2.5</td>\n",
       "      <td>t</td>\n",
       "      <td>108</td>\n",
       "      <td>t</td>\n",
       "      <td>0.96</td>\n",
       "      <td>t</td>\n",
       "      <td>113</td>\n",
       "      <td>f</td>\n",
       "      <td>?</td>\n",
       "      <td>SVI</td>\n",
       "      <td>negative.|2059</td>\n",
       "    </tr>\n",
       "    <tr>\n",
       "      <th>2</th>\n",
       "      <td>25</td>\n",
       "      <td>F</td>\n",
       "      <td>f</td>\n",
       "      <td>f</td>\n",
       "      <td>f</td>\n",
       "      <td>f</td>\n",
       "      <td>f</td>\n",
       "      <td>f</td>\n",
       "      <td>f</td>\n",
       "      <td>f</td>\n",
       "      <td>f</td>\n",
       "      <td>f</td>\n",
       "      <td>f</td>\n",
       "      <td>f</td>\n",
       "      <td>f</td>\n",
       "      <td>f</td>\n",
       "      <td>t</td>\n",
       "      <td>4.6</td>\n",
       "      <td>t</td>\n",
       "      <td>2.4</td>\n",
       "      <td>t</td>\n",
       "      <td>61</td>\n",
       "      <td>t</td>\n",
       "      <td>0.82</td>\n",
       "      <td>t</td>\n",
       "      <td>75</td>\n",
       "      <td>f</td>\n",
       "      <td>?</td>\n",
       "      <td>SVHD</td>\n",
       "      <td>negative.|399</td>\n",
       "    </tr>\n",
       "    <tr>\n",
       "      <th>3</th>\n",
       "      <td>53</td>\n",
       "      <td>F</td>\n",
       "      <td>f</td>\n",
       "      <td>f</td>\n",
       "      <td>f</td>\n",
       "      <td>f</td>\n",
       "      <td>f</td>\n",
       "      <td>f</td>\n",
       "      <td>f</td>\n",
       "      <td>t</td>\n",
       "      <td>f</td>\n",
       "      <td>f</td>\n",
       "      <td>f</td>\n",
       "      <td>f</td>\n",
       "      <td>f</td>\n",
       "      <td>f</td>\n",
       "      <td>t</td>\n",
       "      <td>0.25</td>\n",
       "      <td>t</td>\n",
       "      <td>2.1</td>\n",
       "      <td>t</td>\n",
       "      <td>145</td>\n",
       "      <td>t</td>\n",
       "      <td>1.03</td>\n",
       "      <td>t</td>\n",
       "      <td>141</td>\n",
       "      <td>f</td>\n",
       "      <td>?</td>\n",
       "      <td>other</td>\n",
       "      <td>negative.|1911</td>\n",
       "    </tr>\n",
       "    <tr>\n",
       "      <th>4</th>\n",
       "      <td>92</td>\n",
       "      <td>F</td>\n",
       "      <td>f</td>\n",
       "      <td>f</td>\n",
       "      <td>f</td>\n",
       "      <td>f</td>\n",
       "      <td>f</td>\n",
       "      <td>f</td>\n",
       "      <td>f</td>\n",
       "      <td>f</td>\n",
       "      <td>f</td>\n",
       "      <td>f</td>\n",
       "      <td>f</td>\n",
       "      <td>f</td>\n",
       "      <td>f</td>\n",
       "      <td>f</td>\n",
       "      <td>t</td>\n",
       "      <td>0.7</td>\n",
       "      <td>t</td>\n",
       "      <td>1.3</td>\n",
       "      <td>t</td>\n",
       "      <td>120</td>\n",
       "      <td>t</td>\n",
       "      <td>0.84</td>\n",
       "      <td>t</td>\n",
       "      <td>143</td>\n",
       "      <td>f</td>\n",
       "      <td>?</td>\n",
       "      <td>SVI</td>\n",
       "      <td>negative.|487</td>\n",
       "    </tr>\n",
       "  </tbody>\n",
       "</table>\n",
       "</div>"
      ],
      "text/plain": [
       "   Age Sex On Thyroxine Query on Thyroxine On Antithyroid Medication Sick  \\\n",
       "0   35   F            f                  f                         f    f   \n",
       "1   63   M            f                  f                         f    f   \n",
       "2   25   F            f                  f                         f    f   \n",
       "3   53   F            f                  f                         f    f   \n",
       "4   92   F            f                  f                         f    f   \n",
       "\n",
       "  Pregnant Thyroid Surgery I131 Treatement Query Hypothyriod  \\\n",
       "0        f               f               f                 f   \n",
       "1        f               f               f                 f   \n",
       "2        f               f               f                 f   \n",
       "3        f               f               f                 t   \n",
       "4        f               f               f                 f   \n",
       "\n",
       "  Query Hyperthyriod Lithium Goitre Tumor Hypopituitary Psych TSH Measured  \\\n",
       "0                  f       f      f     f             f     f            f   \n",
       "1                  f       f      f     f             f     f            t   \n",
       "2                  f       f      f     f             f     f            t   \n",
       "3                  f       f      f     f             f     f            t   \n",
       "4                  f       f      f     f             f     f            t   \n",
       "\n",
       "    TSH T3 Measured   T3 TT4 Measured  TT4 T4U Measured   T4U FTI Measured  \\\n",
       "0     ?           f    ?            f    ?            f     ?            f   \n",
       "1   3.5           t  2.5            t  108            t  0.96            t   \n",
       "2   4.6           t  2.4            t   61            t  0.82            t   \n",
       "3  0.25           t  2.1            t  145            t  1.03            t   \n",
       "4   0.7           t  1.3            t  120            t  0.84            t   \n",
       "\n",
       "   FTI TBG Measured TBG Referral Source          Result  \n",
       "0    ?            f   ?           other   negative.|219  \n",
       "1  113            f   ?             SVI  negative.|2059  \n",
       "2   75            f   ?            SVHD   negative.|399  \n",
       "3  141            f   ?           other  negative.|1911  \n",
       "4  143            f   ?             SVI   negative.|487  "
      ]
     },
     "execution_count": 874,
     "metadata": {},
     "output_type": "execute_result"
    }
   ],
   "source": [
    "test_data.head()"
   ]
  },
  {
   "cell_type": "markdown",
   "id": "a7db259a-c865-41e6-a37c-7cb3ac144ff8",
   "metadata": {
    "jp-MarkdownHeadingCollapsed": true
   },
   "source": [
    "### info()"
   ]
  },
  {
   "cell_type": "code",
   "execution_count": 875,
   "id": "763011a4-2092-4af2-9ce5-0e8357c949d0",
   "metadata": {},
   "outputs": [
    {
     "name": "stdout",
     "output_type": "stream",
     "text": [
      "<class 'pandas.core.frame.DataFrame'>\n",
      "RangeIndex: 2800 entries, 0 to 2799\n",
      "Data columns (total 30 columns):\n",
      " #   Column                     Non-Null Count  Dtype \n",
      "---  ------                     --------------  ----- \n",
      " 0   Age                        2800 non-null   object\n",
      " 1   Sex                        2800 non-null   object\n",
      " 2   On Thyroxine               2800 non-null   object\n",
      " 3   Query on Thyroxine         2800 non-null   object\n",
      " 4   On Antithyroid Medication  2800 non-null   object\n",
      " 5   Sick                       2800 non-null   object\n",
      " 6   Pregnant                   2800 non-null   object\n",
      " 7   Thyroid Surgery            2800 non-null   object\n",
      " 8   I131 Treatement            2800 non-null   object\n",
      " 9   Query Hypothyriod          2800 non-null   object\n",
      " 10  Query Hyperthyriod         2800 non-null   object\n",
      " 11  Lithium                    2800 non-null   object\n",
      " 12  Goitre                     2800 non-null   object\n",
      " 13  Tumor                      2800 non-null   object\n",
      " 14  Hypopituitary              2800 non-null   object\n",
      " 15  Psych                      2800 non-null   object\n",
      " 16  TSH Measured               2800 non-null   object\n",
      " 17  TSH                        2800 non-null   object\n",
      " 18  T3 Measured                2800 non-null   object\n",
      " 19  T3                         2800 non-null   object\n",
      " 20  TT4 Measured               2800 non-null   object\n",
      " 21  TT4                        2800 non-null   object\n",
      " 22  T4U Measured               2800 non-null   object\n",
      " 23  T4U                        2800 non-null   object\n",
      " 24  FTI Measured               2800 non-null   object\n",
      " 25  FTI                        2800 non-null   object\n",
      " 26  TBG Measured               2800 non-null   object\n",
      " 27  TBG                        2800 non-null   object\n",
      " 28  Referral Source            2800 non-null   object\n",
      " 29  Result                     2800 non-null   object\n",
      "dtypes: object(30)\n",
      "memory usage: 656.4+ KB\n"
     ]
    }
   ],
   "source": [
    "train_data.info()"
   ]
  },
  {
   "cell_type": "code",
   "execution_count": 876,
   "id": "86af7f7f-12e7-4e98-bbd4-7d24589717ef",
   "metadata": {},
   "outputs": [
    {
     "name": "stdout",
     "output_type": "stream",
     "text": [
      "<class 'pandas.core.frame.DataFrame'>\n",
      "RangeIndex: 972 entries, 0 to 971\n",
      "Data columns (total 30 columns):\n",
      " #   Column                     Non-Null Count  Dtype \n",
      "---  ------                     --------------  ----- \n",
      " 0   Age                        972 non-null    int64 \n",
      " 1   Sex                        972 non-null    object\n",
      " 2   On Thyroxine               972 non-null    object\n",
      " 3   Query on Thyroxine         972 non-null    object\n",
      " 4   On Antithyroid Medication  972 non-null    object\n",
      " 5   Sick                       972 non-null    object\n",
      " 6   Pregnant                   972 non-null    object\n",
      " 7   Thyroid Surgery            972 non-null    object\n",
      " 8   I131 Treatement            972 non-null    object\n",
      " 9   Query Hypothyriod          972 non-null    object\n",
      " 10  Query Hyperthyriod         972 non-null    object\n",
      " 11  Lithium                    972 non-null    object\n",
      " 12  Goitre                     972 non-null    object\n",
      " 13  Tumor                      972 non-null    object\n",
      " 14  Hypopituitary              972 non-null    object\n",
      " 15  Psych                      972 non-null    object\n",
      " 16  TSH Measured               972 non-null    object\n",
      " 17  TSH                        972 non-null    object\n",
      " 18  T3 Measured                972 non-null    object\n",
      " 19  T3                         972 non-null    object\n",
      " 20  TT4 Measured               972 non-null    object\n",
      " 21  TT4                        972 non-null    object\n",
      " 22  T4U Measured               972 non-null    object\n",
      " 23  T4U                        972 non-null    object\n",
      " 24  FTI Measured               972 non-null    object\n",
      " 25  FTI                        972 non-null    object\n",
      " 26  TBG Measured               972 non-null    object\n",
      " 27  TBG                        972 non-null    object\n",
      " 28  Referral Source            972 non-null    object\n",
      " 29  Result                     972 non-null    object\n",
      "dtypes: int64(1), object(29)\n",
      "memory usage: 227.9+ KB\n"
     ]
    }
   ],
   "source": [
    "test_data.info()"
   ]
  },
  {
   "cell_type": "markdown",
   "id": "993a018f-27f8-40dd-97d8-a16e2048b7ff",
   "metadata": {
    "jp-MarkdownHeadingCollapsed": true
   },
   "source": [
    "### value_counts()"
   ]
  },
  {
   "cell_type": "code",
   "execution_count": 877,
   "id": "f7aff319-ef39-4fc7-bbbd-efa4bde345eb",
   "metadata": {},
   "outputs": [
    {
     "name": "stdout",
     "output_type": "stream",
     "text": [
      "\n",
      " 59     75\n",
      "70     74\n",
      "60     66\n",
      "63     64\n",
      "72     64\n",
      "       ..\n",
      "455     1\n",
      "6       1\n",
      "?       1\n",
      "93      1\n",
      "92      1\n",
      "Name: Age, Length: 94, dtype: int64 \n",
      "\n",
      "\n",
      " F    1830\n",
      "M     860\n",
      "?     110\n",
      "Name: Sex, dtype: int64 \n",
      "\n",
      "\n",
      " f    2470\n",
      "t     330\n",
      "Name: On Thyroxine, dtype: int64 \n",
      "\n",
      "\n",
      " f    2760\n",
      "t      40\n",
      "Name: Query on Thyroxine, dtype: int64 \n",
      "\n",
      "\n",
      " f    2766\n",
      "t      34\n",
      "Name: On Antithyroid Medication, dtype: int64 \n",
      "\n",
      "\n",
      " f    2690\n",
      "t     110\n",
      "Name: Sick, dtype: int64 \n",
      "\n",
      "\n",
      " f    2759\n",
      "t      41\n",
      "Name: Pregnant, dtype: int64 \n",
      "\n",
      "\n",
      " f    2761\n",
      "t      39\n",
      "Name: Thyroid Surgery, dtype: int64 \n",
      "\n",
      "\n",
      " f    2752\n",
      "t      48\n",
      "Name: I131 Treatement, dtype: int64 \n",
      "\n",
      "\n",
      " f    2637\n",
      "t     163\n",
      "Name: Query Hypothyriod, dtype: int64 \n",
      "\n",
      "\n",
      " f    2627\n",
      "t     173\n",
      "Name: Query Hyperthyriod, dtype: int64 \n",
      "\n",
      "\n",
      " f    2786\n",
      "t      14\n",
      "Name: Lithium, dtype: int64 \n",
      "\n",
      "\n",
      " f    2775\n",
      "t      25\n",
      "Name: Goitre, dtype: int64 \n",
      "\n",
      "\n",
      " f    2729\n",
      "t      71\n",
      "Name: Tumor, dtype: int64 \n",
      "\n",
      "\n",
      " f    2799\n",
      "t       1\n",
      "Name: Hypopituitary, dtype: int64 \n",
      "\n",
      "\n",
      " f    2665\n",
      "t     135\n",
      "Name: Psych, dtype: int64 \n",
      "\n",
      "\n",
      " t    2516\n",
      "f     284\n",
      "Name: TSH Measured, dtype: int64 \n",
      "\n",
      "\n",
      " ?       284\n",
      "0.2      88\n",
      "1.3      81\n",
      "1.1      69\n",
      "1.4      66\n",
      "       ... \n",
      "70        1\n",
      "8.4       1\n",
      "0.21      1\n",
      "82        1\n",
      "468       1\n",
      "Name: TSH, Length: 264, dtype: int64 \n",
      "\n",
      "\n",
      " t    2215\n",
      "f     585\n",
      "Name: T3 Measured, dtype: int64 \n",
      "\n",
      "\n",
      " ?      585\n",
      "2      169\n",
      "1.8    160\n",
      "2.2    156\n",
      "2.3    137\n",
      "      ... \n",
      "4.7      1\n",
      "7.3      1\n",
      "4.6      1\n",
      "6        1\n",
      "7.1      1\n",
      "Name: T3, Length: 65, dtype: int64 \n",
      "\n",
      "\n",
      " t    2616\n",
      "f     184\n",
      "Name: TT4 Measured, dtype: int64 \n",
      "\n",
      "\n",
      " ?      184\n",
      "101     62\n",
      "93      53\n",
      "103     47\n",
      "98      47\n",
      "      ... \n",
      "4.8      1\n",
      "214      1\n",
      "246      1\n",
      "207      1\n",
      "173      1\n",
      "Name: TT4, Length: 218, dtype: int64 \n",
      "\n",
      "\n",
      " t    2503\n",
      "f     297\n",
      "Name: T4U Measured, dtype: int64 \n",
      "\n",
      "\n",
      " ?       297\n",
      "0.99     81\n",
      "1        71\n",
      "0.93     70\n",
      "0.91     68\n",
      "       ... \n",
      "1.79      1\n",
      "2.03      1\n",
      "1.93      1\n",
      "1.83      1\n",
      "0.62      1\n",
      "Name: T4U, Length: 139, dtype: int64 \n",
      "\n",
      "\n",
      " t    2505\n",
      "f     295\n",
      "Name: FTI Measured, dtype: int64 \n",
      "\n",
      "\n",
      " ?      295\n",
      "107     52\n",
      "100     52\n",
      "98      51\n",
      "93      51\n",
      "      ... \n",
      "219      1\n",
      "17       1\n",
      "210      1\n",
      "205      1\n",
      "183      1\n",
      "Name: FTI, Length: 210, dtype: int64 \n",
      "\n",
      "\n",
      " f    2800\n",
      "Name: TBG Measured, dtype: int64 \n",
      "\n",
      "\n",
      " ?    2800\n",
      "Name: TBG, dtype: int64 \n",
      "\n",
      "\n",
      " other    1632\n",
      "SVI       771\n",
      "SVHC      275\n",
      "STMW       91\n",
      "SVHD       31\n",
      "Name: Referral Source, dtype: int64 \n",
      "\n",
      "\n",
      " negative.|3733    1\n",
      "negative.|3042    1\n",
      "negative.|2933    1\n",
      "negative.|1832    1\n",
      "negative.|342     1\n",
      "                 ..\n",
      "negative.|1796    1\n",
      "negative.|3719    1\n",
      "negative.|2540    1\n",
      "negative.|1740    1\n",
      "negative.|724     1\n",
      "Name: Result, Length: 2800, dtype: int64 \n",
      "\n"
     ]
    }
   ],
   "source": [
    "for column in train_data.columns:\n",
    "    print(\"\\n\", train_data[column].value_counts(), \"\\n\")"
   ]
  },
  {
   "cell_type": "code",
   "execution_count": 878,
   "id": "40de302e-3313-405e-97f7-2d8c0e230f43",
   "metadata": {},
   "outputs": [
    {
     "name": "stdout",
     "output_type": "stream",
     "text": [
      "\n",
      " 58    28\n",
      "62    26\n",
      "60    25\n",
      "65    23\n",
      "56    23\n",
      "      ..\n",
      "11     2\n",
      "12     2\n",
      "93     1\n",
      "92     1\n",
      "7      1\n",
      "Name: Age, Length: 81, dtype: int64 \n",
      "\n",
      "\n",
      " F    650\n",
      "M    282\n",
      "?     40\n",
      "Name: Sex, dtype: int64 \n",
      "\n",
      "\n",
      " f    838\n",
      "t    134\n",
      "Name: On Thyroxine, dtype: int64 \n",
      "\n",
      "\n",
      " f    962\n",
      "t     10\n",
      "Name: Query on Thyroxine, dtype: int64 \n",
      "\n",
      "\n",
      " f    963\n",
      "t      9\n",
      "Name: On Antithyroid Medication, dtype: int64 \n",
      "\n",
      "\n",
      " f    935\n",
      "t     37\n",
      "Name: Sick, dtype: int64 \n",
      "\n",
      "\n",
      " f    960\n",
      "t     12\n",
      "Name: Pregnant, dtype: int64 \n",
      "\n",
      "\n",
      " f    958\n",
      "t     14\n",
      "Name: Thyroid Surgery, dtype: int64 \n",
      "\n",
      "\n",
      " f    961\n",
      "t     11\n",
      "Name: I131 Treatement, dtype: int64 \n",
      "\n",
      "\n",
      " f    901\n",
      "t     71\n",
      "Name: Query Hypothyriod, dtype: int64 \n",
      "\n",
      "\n",
      " f    908\n",
      "t     64\n",
      "Name: Query Hyperthyriod, dtype: int64 \n",
      "\n",
      "\n",
      " f    968\n",
      "t      4\n",
      "Name: Lithium, dtype: int64 \n",
      "\n",
      "\n",
      " f    963\n",
      "t      9\n",
      "Name: Goitre, dtype: int64 \n",
      "\n",
      "\n",
      " f    947\n",
      "t     25\n",
      "Name: Tumor, dtype: int64 \n",
      "\n",
      "\n",
      " f    972\n",
      "Name: Hypopituitary, dtype: int64 \n",
      "\n",
      "\n",
      " f    923\n",
      "t     49\n",
      "Name: Psych, dtype: int64 \n",
      "\n",
      "\n",
      " t    887\n",
      "f     85\n",
      "Name: TSH Measured, dtype: int64 \n",
      "\n",
      "\n",
      " ?       85\n",
      "1.1     28\n",
      "0.2     28\n",
      "1.4     25\n",
      "1.3     24\n",
      "        ..\n",
      "47       1\n",
      "58       1\n",
      "0.36     1\n",
      "0.97     1\n",
      "8.8      1\n",
      "Name: TSH, Length: 204, dtype: int64 \n",
      "\n",
      "\n",
      " t    788\n",
      "f    184\n",
      "Name: T3 Measured, dtype: int64 \n",
      "\n",
      "\n",
      " ?       184\n",
      "2        69\n",
      "1.9      64\n",
      "2.1      52\n",
      "1.8      47\n",
      "2.3      46\n",
      "2.2      45\n",
      "2.4      38\n",
      "1.5      37\n",
      "1.7      35\n",
      "1.6      35\n",
      "2.5      34\n",
      "1.4      32\n",
      "1.2      23\n",
      "2.6      22\n",
      "1.3      22\n",
      "2.7      21\n",
      "1.1      17\n",
      "0.8      16\n",
      "1        16\n",
      "0.9       9\n",
      "3.1       8\n",
      "0.6       8\n",
      "2.9       8\n",
      "3.4       8\n",
      "0.7       7\n",
      "0.2       7\n",
      "2.8       7\n",
      "3         6\n",
      "0.4       5\n",
      "3.2       4\n",
      "0.5       4\n",
      "0.3       4\n",
      "4.2       3\n",
      "3.9       3\n",
      "4.1       2\n",
      "3.5       2\n",
      "4.3       2\n",
      "3.6       2\n",
      "3.3       2\n",
      "3.7       2\n",
      "7.6       1\n",
      "4.4       1\n",
      "1.44      1\n",
      "8.5       1\n",
      "5.7       1\n",
      "4         1\n",
      "4.5       1\n",
      "5.4       1\n",
      "3.8       1\n",
      "5.1       1\n",
      "6.6       1\n",
      "7.1       1\n",
      "4.7       1\n",
      "5.3       1\n",
      "Name: T3, dtype: int64 \n",
      "\n",
      "\n",
      " t    925\n",
      "f     47\n",
      "Name: TT4 Measured, dtype: int64 \n",
      "\n",
      "\n",
      " ?      47\n",
      "102    20\n",
      "89     20\n",
      "87     19\n",
      "104    18\n",
      "       ..\n",
      "166     1\n",
      "25      1\n",
      "155     1\n",
      "9.5     1\n",
      "258     1\n",
      "Name: TT4, Length: 174, dtype: int64 \n",
      "\n",
      "\n",
      " t    882\n",
      "f     90\n",
      "Name: T4U Measured, dtype: int64 \n",
      "\n",
      "\n",
      " ?       90\n",
      "0.97    35\n",
      "0.9     28\n",
      "0.87    26\n",
      "1.01    26\n",
      "        ..\n",
      "1.7      1\n",
      "0.48     1\n",
      "1.49     1\n",
      "1.42     1\n",
      "0.25     1\n",
      "Name: T4U, Length: 110, dtype: int64 \n",
      "\n",
      "\n",
      " t    882\n",
      "f     90\n",
      "Name: FTI Measured, dtype: int64 \n",
      "\n",
      "\n",
      " ?      90\n",
      "111    22\n",
      "100    21\n",
      "106    20\n",
      "103    20\n",
      "       ..\n",
      "155     1\n",
      "8.4     1\n",
      "52      1\n",
      "146     1\n",
      "227     1\n",
      "Name: FTI, Length: 162, dtype: int64 \n",
      "\n",
      "\n",
      " f    972\n",
      "Name: TBG Measured, dtype: int64 \n",
      "\n",
      "\n",
      " ?    972\n",
      "Name: TBG, dtype: int64 \n",
      "\n",
      "\n",
      " other    569\n",
      "SVI      263\n",
      "SVHC     111\n",
      "STMW      21\n",
      "SVHD       8\n",
      "Name: Referral Source, dtype: int64 \n",
      "\n",
      "\n",
      " negative.|219     1\n",
      "negative.|504     1\n",
      "negative.|878     1\n",
      "negative.|2855    1\n",
      "negative.|1137    1\n",
      "                 ..\n",
      "negative.|2530    1\n",
      "negative.|2236    1\n",
      "negative.|246     1\n",
      "negative.|977     1\n",
      "negative.|2008    1\n",
      "Name: Result, Length: 972, dtype: int64 \n",
      "\n"
     ]
    }
   ],
   "source": [
    "for column in test_data.columns:\n",
    "    print(\"\\n\", test_data[column].value_counts(), \"\\n\")"
   ]
  },
  {
   "cell_type": "markdown",
   "id": "a34ebaee-1d61-4b72-b425-704a81c3cbd4",
   "metadata": {},
   "source": [
    "# Process Data pt. 1"
   ]
  },
  {
   "cell_type": "markdown",
   "id": "192257dd-5e45-42f9-b2d6-6bb7650b4479",
   "metadata": {
    "jp-MarkdownHeadingCollapsed": true
   },
   "source": [
    "### referral source irrelevant -> drop \"Referral Source\" column"
   ]
  },
  {
   "cell_type": "code",
   "execution_count": 879,
   "id": "e24f606a-5b68-49d9-b9a5-db0b8521349a",
   "metadata": {},
   "outputs": [
    {
     "data": {
      "text/plain": [
       "(2800, 29)"
      ]
     },
     "execution_count": 879,
     "metadata": {},
     "output_type": "execute_result"
    }
   ],
   "source": [
    "train_data.drop(columns=[\"Referral Source\"], inplace=True)\n",
    "train_data.shape"
   ]
  },
  {
   "cell_type": "code",
   "execution_count": 880,
   "id": "40b7b86f-2bc9-46e6-8874-0a457aec1b16",
   "metadata": {},
   "outputs": [
    {
     "data": {
      "text/plain": [
       "(972, 29)"
      ]
     },
     "execution_count": 880,
     "metadata": {},
     "output_type": "execute_result"
    }
   ],
   "source": [
    "test_data.drop(columns=[\"Referral Source\"], inplace=True)\n",
    "test_data.shape"
   ]
  },
  {
   "cell_type": "markdown",
   "id": "10da4f05-928f-483f-ae26-8455d1b97a7a",
   "metadata": {
    "jp-MarkdownHeadingCollapsed": true
   },
   "source": [
    "### TBG never measures -> drop \"TBG Measured\" and \"TBG\" columns"
   ]
  },
  {
   "cell_type": "code",
   "execution_count": 881,
   "id": "aa33f024-076c-470e-88e4-7776a789f5ef",
   "metadata": {},
   "outputs": [
    {
     "data": {
      "text/plain": [
       "(2800, 27)"
      ]
     },
     "execution_count": 881,
     "metadata": {},
     "output_type": "execute_result"
    }
   ],
   "source": [
    "train_data.drop(columns=[\"TBG Measured\", \"TBG\"], inplace=True)\n",
    "train_data.shape"
   ]
  },
  {
   "cell_type": "code",
   "execution_count": 882,
   "id": "a9fb2f7f-3472-4786-ae95-4a92a0a1b8f5",
   "metadata": {},
   "outputs": [
    {
     "data": {
      "text/plain": [
       "(972, 27)"
      ]
     },
     "execution_count": 882,
     "metadata": {},
     "output_type": "execute_result"
    }
   ],
   "source": [
    "test_data.drop(columns=[\"TBG Measured\", \"TBG\"], inplace=True)\n",
    "test_data.shape"
   ]
  },
  {
   "cell_type": "markdown",
   "id": "a994024d-21b7-4b28-8da9-ca33a2df022b",
   "metadata": {
    "jp-MarkdownHeadingCollapsed": true
   },
   "source": [
    "### boolean columns \"TSH Measured\", \"T3 Measured\", \"TT4 Measured\", \"T4U Measured\", \"FTI Measured\", are redundant becuase the following column has a value or NaN"
   ]
  },
  {
   "cell_type": "code",
   "execution_count": 883,
   "id": "3646c197-657e-49fd-baf3-bb44d7ed93a4",
   "metadata": {},
   "outputs": [
    {
     "data": {
      "text/plain": [
       "(2800, 22)"
      ]
     },
     "execution_count": 883,
     "metadata": {},
     "output_type": "execute_result"
    }
   ],
   "source": [
    "train_data.drop(columns=[\"TSH Measured\", \"T3 Measured\", \"TT4 Measured\", \"T4U Measured\", \"FTI Measured\"], inplace=True)\n",
    "train_data.shape"
   ]
  },
  {
   "cell_type": "code",
   "execution_count": 884,
   "id": "a294b51a-2060-4f1f-867e-d1743a4f1a6f",
   "metadata": {},
   "outputs": [
    {
     "data": {
      "text/plain": [
       "(972, 22)"
      ]
     },
     "execution_count": 884,
     "metadata": {},
     "output_type": "execute_result"
    }
   ],
   "source": [
    "test_data.drop(columns=[\"TSH Measured\", \"T3 Measured\", \"TT4 Measured\", \"T4U Measured\", \"FTI Measured\"], inplace=True)\n",
    "test_data.shape"
   ]
  },
  {
   "cell_type": "markdown",
   "id": "69c79d6e-4486-47b1-9020-9161eebc113e",
   "metadata": {},
   "source": [
    "### result value has gibberish at the end of the class\n",
    "- **assumption** -> every result value has the format \"*class*.*irrelevant*\"\n",
    "- must check by stripping the end of each string from the \".\" onwards\n",
    "- and check value_counts() afterwards to see if every value falls into one of the 5 classes \\[\"hyperthyroid\", \"t3 toxic\", \"goitre\", \"secondary toxic\", \"negative\"]"
   ]
  },
  {
   "cell_type": "code",
   "execution_count": 885,
   "id": "b84b7b07-c617-4da0-a4da-bd0cc910060e",
   "metadata": {},
   "outputs": [
    {
     "data": {
      "text/plain": [
       "negative        2723\n",
       "hyperthyroid      62\n",
       "T3 toxic           8\n",
       "goitre             7\n",
       "Name: Result, dtype: int64"
      ]
     },
     "execution_count": 885,
     "metadata": {},
     "output_type": "execute_result"
    }
   ],
   "source": [
    "def cleanStr(s):\n",
    "    return s[:s.index(\".\")]\n",
    "train_data[\"Result\"] = train_data[\"Result\"].apply(cleanStr)\n",
    "train_data[\"Result\"].value_counts()"
   ]
  },
  {
   "cell_type": "code",
   "execution_count": 886,
   "id": "1a967b8d-d536-49b0-bfc3-41f1a965ad2c",
   "metadata": {},
   "outputs": [
    {
     "data": {
      "text/plain": [
       "negative           947\n",
       "hyperthyroid        17\n",
       "goitre               5\n",
       "T3 toxic             2\n",
       "secondary toxic      1\n",
       "Name: Result, dtype: int64"
      ]
     },
     "execution_count": 886,
     "metadata": {},
     "output_type": "execute_result"
    }
   ],
   "source": [
    "test_data[\"Result\"] = test_data[\"Result\"].apply(cleanStr)\n",
    "test_data[\"Result\"].value_counts()"
   ]
  },
  {
   "cell_type": "markdown",
   "id": "d7bda191-545d-4cce-bee6-03fc147dc779",
   "metadata": {},
   "source": [
    "### drop 1 instance of secondary toxic\n",
    "- do not have resources to collect more data\n",
    "- do not have enough domain knowledge to generate synthetic data\n",
    "- do not have enough domain knowledge to group with another class"
   ]
  },
  {
   "cell_type": "code",
   "execution_count": 887,
   "id": "a9102058-e7cb-4bb1-9dac-132e03640c8a",
   "metadata": {},
   "outputs": [
    {
     "data": {
      "text/plain": [
       "negative        947\n",
       "hyperthyroid     17\n",
       "goitre            5\n",
       "T3 toxic          2\n",
       "Name: Result, dtype: int64"
      ]
     },
     "execution_count": 887,
     "metadata": {},
     "output_type": "execute_result"
    }
   ],
   "source": [
    "mask = test_data[\"Result\"] == \"secondary toxic\"\n",
    "index = test_data.loc[mask].index\n",
    "test_data.drop(index, inplace=True)\n",
    "test_data[\"Result\"].value_counts()"
   ]
  },
  {
   "cell_type": "markdown",
   "id": "144eaebb-05df-456f-aad8-5051474bb073",
   "metadata": {
    "jp-MarkdownHeadingCollapsed": true
   },
   "source": [
    "### change \"?\" values in continuous columns to NaN\n",
    "- \"?\" in categorical data will be encoded as the \"missing\" column"
   ]
  },
  {
   "cell_type": "code",
   "execution_count": 888,
   "id": "1b85eed4-2d5d-4351-9f48-e8b7ba9fce0e",
   "metadata": {},
   "outputs": [
    {
     "name": "stdout",
     "output_type": "stream",
     "text": [
      "Age\n",
      "1\n",
      "0\n",
      "TSH\n",
      "284\n",
      "0\n",
      "T3\n",
      "585\n",
      "0\n",
      "TT4\n",
      "184\n",
      "0\n",
      "T4U\n",
      "297\n",
      "0\n",
      "FTI\n",
      "295\n",
      "0\n"
     ]
    }
   ],
   "source": [
    "columns = [\"Age\", \"TSH\", \"T3\", \"TT4\", \"T4U\", \"FTI\"]\n",
    "for column in columns:\n",
    "    print(column)\n",
    "    print((train_data[column] == \"?\").sum())\n",
    "    train_data[column].replace(\"?\", np.nan, inplace=True)\n",
    "    print((train_data[column] == \"?\").sum())"
   ]
  },
  {
   "cell_type": "code",
   "execution_count": 889,
   "id": "180cafd3-fb88-4fc9-a503-5c3e14141c02",
   "metadata": {},
   "outputs": [
    {
     "name": "stdout",
     "output_type": "stream",
     "text": [
      "Age\n",
      "0\n",
      "0\n",
      "TSH\n",
      "85\n",
      "0\n",
      "T3\n",
      "184\n",
      "0\n",
      "TT4\n",
      "47\n",
      "0\n",
      "T4U\n",
      "90\n",
      "0\n",
      "FTI\n",
      "90\n",
      "0\n"
     ]
    }
   ],
   "source": [
    "columns = [\"Age\", \"TSH\", \"T3\", \"TT4\", \"T4U\", \"FTI\"]\n",
    "for column in columns:\n",
    "    print(column)\n",
    "    print((test_data[column] == \"?\").sum())\n",
    "    test_data[column].replace(\"?\", np.nan, inplace=True)\n",
    "    print((test_data[column] == \"?\").sum())"
   ]
  },
  {
   "cell_type": "markdown",
   "id": "42f9d0ed-2477-41e9-9439-a4474ea156c7",
   "metadata": {
    "jp-MarkdownHeadingCollapsed": true
   },
   "source": [
    "### change continuous values to proper data type"
   ]
  },
  {
   "cell_type": "code",
   "execution_count": 890,
   "id": "0baf1906-8b5f-4b49-b5cb-52fdf79d6523",
   "metadata": {},
   "outputs": [
    {
     "name": "stdout",
     "output_type": "stream",
     "text": [
      "<class 'pandas.core.frame.DataFrame'>\n",
      "RangeIndex: 2800 entries, 0 to 2799\n",
      "Data columns (total 22 columns):\n",
      " #   Column                     Non-Null Count  Dtype  \n",
      "---  ------                     --------------  -----  \n",
      " 0   Age                        2799 non-null   float64\n",
      " 1   Sex                        2800 non-null   object \n",
      " 2   On Thyroxine               2800 non-null   object \n",
      " 3   Query on Thyroxine         2800 non-null   object \n",
      " 4   On Antithyroid Medication  2800 non-null   object \n",
      " 5   Sick                       2800 non-null   object \n",
      " 6   Pregnant                   2800 non-null   object \n",
      " 7   Thyroid Surgery            2800 non-null   object \n",
      " 8   I131 Treatement            2800 non-null   object \n",
      " 9   Query Hypothyriod          2800 non-null   object \n",
      " 10  Query Hyperthyriod         2800 non-null   object \n",
      " 11  Lithium                    2800 non-null   object \n",
      " 12  Goitre                     2800 non-null   object \n",
      " 13  Tumor                      2800 non-null   object \n",
      " 14  Hypopituitary              2800 non-null   object \n",
      " 15  Psych                      2800 non-null   object \n",
      " 16  TSH                        2516 non-null   float64\n",
      " 17  T3                         2215 non-null   float64\n",
      " 18  TT4                        2616 non-null   float64\n",
      " 19  T4U                        2503 non-null   float64\n",
      " 20  FTI                        2505 non-null   float64\n",
      " 21  Result                     2800 non-null   object \n",
      "dtypes: float64(6), object(16)\n",
      "memory usage: 481.4+ KB\n"
     ]
    }
   ],
   "source": [
    "columns = [\"Age\", \"TSH\", \"T3\", \"TT4\", \"T4U\", \"FTI\"]\n",
    "for column in columns:\n",
    "    train_data[column] = train_data[column].astype(\"float\")\n",
    "train_data.info()"
   ]
  },
  {
   "cell_type": "code",
   "execution_count": 891,
   "id": "d9099935-081d-4015-8c94-a350f93de5b2",
   "metadata": {},
   "outputs": [
    {
     "name": "stdout",
     "output_type": "stream",
     "text": [
      "<class 'pandas.core.frame.DataFrame'>\n",
      "Int64Index: 971 entries, 0 to 971\n",
      "Data columns (total 22 columns):\n",
      " #   Column                     Non-Null Count  Dtype  \n",
      "---  ------                     --------------  -----  \n",
      " 0   Age                        971 non-null    float64\n",
      " 1   Sex                        971 non-null    object \n",
      " 2   On Thyroxine               971 non-null    object \n",
      " 3   Query on Thyroxine         971 non-null    object \n",
      " 4   On Antithyroid Medication  971 non-null    object \n",
      " 5   Sick                       971 non-null    object \n",
      " 6   Pregnant                   971 non-null    object \n",
      " 7   Thyroid Surgery            971 non-null    object \n",
      " 8   I131 Treatement            971 non-null    object \n",
      " 9   Query Hypothyriod          971 non-null    object \n",
      " 10  Query Hyperthyriod         971 non-null    object \n",
      " 11  Lithium                    971 non-null    object \n",
      " 12  Goitre                     971 non-null    object \n",
      " 13  Tumor                      971 non-null    object \n",
      " 14  Hypopituitary              971 non-null    object \n",
      " 15  Psych                      971 non-null    object \n",
      " 16  TSH                        886 non-null    float64\n",
      " 17  T3                         787 non-null    float64\n",
      " 18  TT4                        924 non-null    float64\n",
      " 19  T4U                        881 non-null    float64\n",
      " 20  FTI                        881 non-null    float64\n",
      " 21  Result                     971 non-null    object \n",
      "dtypes: float64(6), object(16)\n",
      "memory usage: 174.5+ KB\n"
     ]
    }
   ],
   "source": [
    "columns = [\"Age\", \"TSH\", \"T3\", \"TT4\", \"T4U\", \"FTI\"]\n",
    "for column in columns:\n",
    "    test_data[column] = test_data[column].astype(\"float\")\n",
    "test_data.info()"
   ]
  },
  {
   "cell_type": "markdown",
   "id": "97086b46-b249-46f8-b8ef-6caa5b644979",
   "metadata": {
    "jp-MarkdownHeadingCollapsed": true
   },
   "source": [
    "### one-hot encoding of categorical data\n",
    "- columns with categorical data includes \\['Sex', 'On Thyroxine', 'Query on Thyroxine', 'On Antithyroid Medication', 'Sick', 'Pregnant', 'Thyroid Surgery', 'I131 Treatement', 'Query Hypothyriod', 'Query Hyperthyriod', 'Lithium', 'Goitre', 'Tumor', 'Hypopituitary', 'Psych', 'Result']"
   ]
  },
  {
   "cell_type": "code",
   "execution_count": 892,
   "id": "b7d94a84-285f-4e4c-8687-8475638111cc",
   "metadata": {},
   "outputs": [
    {
     "name": "stdout",
     "output_type": "stream",
     "text": [
      "<class 'pandas.core.frame.DataFrame'>\n",
      "RangeIndex: 2800 entries, 0 to 2799\n",
      "Data columns (total 38 columns):\n",
      " #   Column                       Non-Null Count  Dtype  \n",
      "---  ------                       --------------  -----  \n",
      " 0   Age                          2799 non-null   float64\n",
      " 1   Sex_?                        2800 non-null   uint8  \n",
      " 2   Sex_F                        2800 non-null   uint8  \n",
      " 3   Sex_M                        2800 non-null   uint8  \n",
      " 4   On Thyroxine_f               2800 non-null   uint8  \n",
      " 5   On Thyroxine_t               2800 non-null   uint8  \n",
      " 6   Query on Thyroxine_f         2800 non-null   uint8  \n",
      " 7   Query on Thyroxine_t         2800 non-null   uint8  \n",
      " 8   On Antithyroid Medication_f  2800 non-null   uint8  \n",
      " 9   On Antithyroid Medication_t  2800 non-null   uint8  \n",
      " 10  Sick_f                       2800 non-null   uint8  \n",
      " 11  Sick_t                       2800 non-null   uint8  \n",
      " 12  Pregnant_f                   2800 non-null   uint8  \n",
      " 13  Pregnant_t                   2800 non-null   uint8  \n",
      " 14  Thyroid Surgery_f            2800 non-null   uint8  \n",
      " 15  Thyroid Surgery_t            2800 non-null   uint8  \n",
      " 16  I131 Treatement_f            2800 non-null   uint8  \n",
      " 17  I131 Treatement_t            2800 non-null   uint8  \n",
      " 18  Query Hypothyriod_f          2800 non-null   uint8  \n",
      " 19  Query Hypothyriod_t          2800 non-null   uint8  \n",
      " 20  Query Hyperthyriod_f         2800 non-null   uint8  \n",
      " 21  Query Hyperthyriod_t         2800 non-null   uint8  \n",
      " 22  Lithium_f                    2800 non-null   uint8  \n",
      " 23  Lithium_t                    2800 non-null   uint8  \n",
      " 24  Goitre_f                     2800 non-null   uint8  \n",
      " 25  Goitre_t                     2800 non-null   uint8  \n",
      " 26  Tumor_f                      2800 non-null   uint8  \n",
      " 27  Tumor_t                      2800 non-null   uint8  \n",
      " 28  Hypopituitary_f              2800 non-null   uint8  \n",
      " 29  Hypopituitary_t              2800 non-null   uint8  \n",
      " 30  Psych_f                      2800 non-null   uint8  \n",
      " 31  Psych_t                      2800 non-null   uint8  \n",
      " 32  TSH                          2516 non-null   float64\n",
      " 33  T3                           2215 non-null   float64\n",
      " 34  TT4                          2616 non-null   float64\n",
      " 35  T4U                          2503 non-null   float64\n",
      " 36  FTI                          2505 non-null   float64\n",
      " 37  Result                       2800 non-null   object \n",
      "dtypes: float64(6), object(1), uint8(31)\n",
      "memory usage: 238.0+ KB\n"
     ]
    }
   ],
   "source": [
    "columns = train_data.columns[1:16] # Sex - Psych\n",
    "temp_df = pd.DataFrame() # necessary so we can take these middle columns and put them in the middle of train_data\n",
    "# encode columns\n",
    "for column in columns:\n",
    "    encoded_df = pd.get_dummies(train_data[column], prefix=column)\n",
    "    temp_df = pd.concat([temp_df, encoded_df], axis=1)\n",
    "# new df\n",
    "train_data = pd.concat([train_data[\"Age\"], temp_df, train_data.loc[:,\"TSH\":]], axis=1) # do not encode result (most scikit learn models can handle label)\n",
    "train_data.info()"
   ]
  },
  {
   "cell_type": "code",
   "execution_count": 893,
   "id": "d54e8147-8a46-4806-8bad-e91d38d4370f",
   "metadata": {},
   "outputs": [
    {
     "name": "stdout",
     "output_type": "stream",
     "text": [
      "<class 'pandas.core.frame.DataFrame'>\n",
      "Int64Index: 971 entries, 0 to 971\n",
      "Data columns (total 37 columns):\n",
      " #   Column                       Non-Null Count  Dtype  \n",
      "---  ------                       --------------  -----  \n",
      " 0   Age                          971 non-null    float64\n",
      " 1   Sex_?                        971 non-null    uint8  \n",
      " 2   Sex_F                        971 non-null    uint8  \n",
      " 3   Sex_M                        971 non-null    uint8  \n",
      " 4   On Thyroxine_f               971 non-null    uint8  \n",
      " 5   On Thyroxine_t               971 non-null    uint8  \n",
      " 6   Query on Thyroxine_f         971 non-null    uint8  \n",
      " 7   Query on Thyroxine_t         971 non-null    uint8  \n",
      " 8   On Antithyroid Medication_f  971 non-null    uint8  \n",
      " 9   On Antithyroid Medication_t  971 non-null    uint8  \n",
      " 10  Sick_f                       971 non-null    uint8  \n",
      " 11  Sick_t                       971 non-null    uint8  \n",
      " 12  Pregnant_f                   971 non-null    uint8  \n",
      " 13  Pregnant_t                   971 non-null    uint8  \n",
      " 14  Thyroid Surgery_f            971 non-null    uint8  \n",
      " 15  Thyroid Surgery_t            971 non-null    uint8  \n",
      " 16  I131 Treatement_f            971 non-null    uint8  \n",
      " 17  I131 Treatement_t            971 non-null    uint8  \n",
      " 18  Query Hypothyriod_f          971 non-null    uint8  \n",
      " 19  Query Hypothyriod_t          971 non-null    uint8  \n",
      " 20  Query Hyperthyriod_f         971 non-null    uint8  \n",
      " 21  Query Hyperthyriod_t         971 non-null    uint8  \n",
      " 22  Lithium_f                    971 non-null    uint8  \n",
      " 23  Lithium_t                    971 non-null    uint8  \n",
      " 24  Goitre_f                     971 non-null    uint8  \n",
      " 25  Goitre_t                     971 non-null    uint8  \n",
      " 26  Tumor_f                      971 non-null    uint8  \n",
      " 27  Tumor_t                      971 non-null    uint8  \n",
      " 28  Hypopituitary_f              971 non-null    uint8  \n",
      " 29  Psych_f                      971 non-null    uint8  \n",
      " 30  Psych_t                      971 non-null    uint8  \n",
      " 31  TSH                          886 non-null    float64\n",
      " 32  T3                           787 non-null    float64\n",
      " 33  TT4                          924 non-null    float64\n",
      " 34  T4U                          881 non-null    float64\n",
      " 35  FTI                          881 non-null    float64\n",
      " 36  Result                       971 non-null    object \n",
      "dtypes: float64(6), object(1), uint8(30)\n",
      "memory usage: 89.1+ KB\n"
     ]
    }
   ],
   "source": [
    "columns = test_data.columns[1:16]\n",
    "temp_df = pd.DataFrame()\n",
    "for column in columns:\n",
    "    encoded_df = pd.get_dummies(test_data[column], prefix=column)\n",
    "    temp_df = pd.concat([temp_df, encoded_df], axis=1)\n",
    "# encoded_result_df = pd.get_dummies(test_data[\"Result\"], prefix=\"Result\")\n",
    "# test_data = pd.concat([test_data[\"Age\"], temp_df, test_data.loc[:,\"TSH\":\"FTI\"], encoded_result_df], axis=1)\n",
    "test_data = pd.concat([test_data[\"Age\"], temp_df, test_data.loc[:,\"TSH\":]], axis=1) # do not encode result\n",
    "test_data.info()"
   ]
  },
  {
   "cell_type": "markdown",
   "id": "20d2ce99-48d1-4dc5-9b42-d810500cf812",
   "metadata": {
    "jp-MarkdownHeadingCollapsed": true
   },
   "source": [
    "### reindex() to match columns and fill missing columns with 0"
   ]
  },
  {
   "cell_type": "code",
   "execution_count": 894,
   "id": "e2e62670-934c-47f7-a635-614ca0014082",
   "metadata": {},
   "outputs": [
    {
     "name": "stdout",
     "output_type": "stream",
     "text": [
      "<class 'pandas.core.frame.DataFrame'>\n",
      "Int64Index: 971 entries, 0 to 971\n",
      "Data columns (total 38 columns):\n",
      " #   Column                       Non-Null Count  Dtype  \n",
      "---  ------                       --------------  -----  \n",
      " 0   Age                          971 non-null    float64\n",
      " 1   Sex_?                        971 non-null    uint8  \n",
      " 2   Sex_F                        971 non-null    uint8  \n",
      " 3   Sex_M                        971 non-null    uint8  \n",
      " 4   On Thyroxine_f               971 non-null    uint8  \n",
      " 5   On Thyroxine_t               971 non-null    uint8  \n",
      " 6   Query on Thyroxine_f         971 non-null    uint8  \n",
      " 7   Query on Thyroxine_t         971 non-null    uint8  \n",
      " 8   On Antithyroid Medication_f  971 non-null    uint8  \n",
      " 9   On Antithyroid Medication_t  971 non-null    uint8  \n",
      " 10  Sick_f                       971 non-null    uint8  \n",
      " 11  Sick_t                       971 non-null    uint8  \n",
      " 12  Pregnant_f                   971 non-null    uint8  \n",
      " 13  Pregnant_t                   971 non-null    uint8  \n",
      " 14  Thyroid Surgery_f            971 non-null    uint8  \n",
      " 15  Thyroid Surgery_t            971 non-null    uint8  \n",
      " 16  I131 Treatement_f            971 non-null    uint8  \n",
      " 17  I131 Treatement_t            971 non-null    uint8  \n",
      " 18  Query Hypothyriod_f          971 non-null    uint8  \n",
      " 19  Query Hypothyriod_t          971 non-null    uint8  \n",
      " 20  Query Hyperthyriod_f         971 non-null    uint8  \n",
      " 21  Query Hyperthyriod_t         971 non-null    uint8  \n",
      " 22  Lithium_f                    971 non-null    uint8  \n",
      " 23  Lithium_t                    971 non-null    uint8  \n",
      " 24  Goitre_f                     971 non-null    uint8  \n",
      " 25  Goitre_t                     971 non-null    uint8  \n",
      " 26  Tumor_f                      971 non-null    uint8  \n",
      " 27  Tumor_t                      971 non-null    uint8  \n",
      " 28  Hypopituitary_f              971 non-null    uint8  \n",
      " 29  Hypopituitary_t              971 non-null    int64  \n",
      " 30  Psych_f                      971 non-null    uint8  \n",
      " 31  Psych_t                      971 non-null    uint8  \n",
      " 32  TSH                          886 non-null    float64\n",
      " 33  T3                           787 non-null    float64\n",
      " 34  TT4                          924 non-null    float64\n",
      " 35  T4U                          881 non-null    float64\n",
      " 36  FTI                          881 non-null    float64\n",
      " 37  Result                       971 non-null    object \n",
      "dtypes: float64(6), int64(1), object(1), uint8(30)\n",
      "memory usage: 96.7+ KB\n"
     ]
    }
   ],
   "source": [
    "# Ensure columns in the test set match the columns in the training set\n",
    "test_data = test_data.reindex(columns=train_data.columns, fill_value=0)\n",
    "train_data.columns == test_data.columns\n",
    "test_data.info()"
   ]
  },
  {
   "cell_type": "markdown",
   "id": "2d146b6e-e1ef-4611-b976-57bdd7df8eab",
   "metadata": {
    "jp-MarkdownHeadingCollapsed": true
   },
   "source": [
    "### handle missing data\n",
    "- count rows with a missing value\n",
    "- count rows with a missing value AND a negative result\n",
    "- if we have majority of missing values we can drop the rows to reduce the negative result and somewhat rebalance the class?\n",
    "- i should try multiple methods of handling missing values and see how it affects the model performance."
   ]
  },
  {
   "cell_type": "code",
   "execution_count": 895,
   "id": "13fd8afe-fae1-4d52-9ed6-195b5d6945c3",
   "metadata": {},
   "outputs": [
    {
     "data": {
      "text/plain": [
       "0"
      ]
     },
     "execution_count": 895,
     "metadata": {},
     "output_type": "execute_result"
    }
   ],
   "source": [
    "train_data.dropna(inplace=True)\n",
    "# columns = [\"Age\", \"TSH\", \"T3\", \"TT4\", \"T4U\", \"FTI\"]\n",
    "# for column in columns:\n",
    "#     mean = train_data[column].mean()\n",
    "#     train_data[column].fillna(mean, inplace=True)\n",
    "train_data.isna().sum().sum()"
   ]
  },
  {
   "cell_type": "code",
   "execution_count": 896,
   "id": "bac4580d-0348-402a-b5d2-7bde87aa26e8",
   "metadata": {},
   "outputs": [
    {
     "data": {
      "text/plain": [
       "0"
      ]
     },
     "execution_count": 896,
     "metadata": {},
     "output_type": "execute_result"
    }
   ],
   "source": [
    "test_data.dropna(inplace=True)\n",
    "# columns = [\"Age\", \"TSH\", \"T3\", \"TT4\", \"T4U\", \"FTI\"]\n",
    "# for column in columns:\n",
    "#     mean = test_data[column].mean()\n",
    "#     test_data[column].fillna(mean, inplace=True)\n",
    "test_data.isna().sum().sum()"
   ]
  },
  {
   "cell_type": "markdown",
   "id": "a319fa2c-e045-416f-9b2a-41f4c858362a",
   "metadata": {},
   "source": [
    "# Analyze Data pt. 2"
   ]
  },
  {
   "cell_type": "markdown",
   "id": "5641eee4-1c10-43b8-9235-64efb50701df",
   "metadata": {},
   "source": [
    "### describe() for continuous value columns"
   ]
  },
  {
   "cell_type": "code",
   "execution_count": 897,
   "id": "7667f367-68d2-49f2-937c-afda991d38d3",
   "metadata": {},
   "outputs": [
    {
     "name": "stdout",
     "output_type": "stream",
     "text": [
      "count    2028.000000\n",
      "mean       53.069527\n",
      "std        20.837369\n",
      "min         1.000000\n",
      "25%        37.000000\n",
      "50%        55.000000\n",
      "75%        69.000000\n",
      "max       455.000000\n",
      "Name: Age, dtype: float64 \n",
      "\n",
      "count    2028.000000\n",
      "mean        4.555535\n",
      "std        20.860154\n",
      "min         0.005000\n",
      "25%         0.450000\n",
      "50%         1.300000\n",
      "75%         2.500000\n",
      "max       472.000000\n",
      "Name: TSH, dtype: float64 \n",
      "\n",
      "count    2028.000000\n",
      "mean        2.018146\n",
      "std         0.822898\n",
      "min         0.050000\n",
      "25%         1.600000\n",
      "50%         2.000000\n",
      "75%         2.400000\n",
      "max        10.600000\n",
      "Name: T3, dtype: float64 \n",
      "\n",
      "count    2028.000000\n",
      "mean      108.710848\n",
      "std        35.445779\n",
      "min         2.000000\n",
      "25%        88.000000\n",
      "50%       104.000000\n",
      "75%       124.000000\n",
      "max       430.000000\n",
      "Name: TT4, dtype: float64 \n",
      "\n",
      "count    2028.000000\n",
      "mean        0.998163\n",
      "std         0.198381\n",
      "min         0.310000\n",
      "25%         0.880000\n",
      "50%         0.980000\n",
      "75%         1.090000\n",
      "max         2.120000\n",
      "Name: T4U, dtype: float64 \n",
      "\n",
      "count    2028.000000\n",
      "mean      110.053698\n",
      "std        32.833897\n",
      "min         2.000000\n",
      "25%        93.000000\n",
      "50%       107.000000\n",
      "75%       123.000000\n",
      "max       395.000000\n",
      "Name: FTI, dtype: float64 \n",
      "\n"
     ]
    }
   ],
   "source": [
    "columns = [\"Age\", \"TSH\", \"T3\", \"TT4\", \"T4U\", \"FTI\"]\n",
    "for column in columns:\n",
    "    print(train_data[column].describe(), \"\\n\")"
   ]
  },
  {
   "cell_type": "code",
   "execution_count": 898,
   "id": "85dd65ef-33a2-4b5e-b196-7a2678651654",
   "metadata": {},
   "outputs": [
    {
     "name": "stdout",
     "output_type": "stream",
     "text": [
      "count    722.000000\n",
      "mean      52.400277\n",
      "std       18.943134\n",
      "min        7.000000\n",
      "25%       36.000000\n",
      "50%       55.000000\n",
      "75%       68.000000\n",
      "max       93.000000\n",
      "Name: Age, dtype: float64 \n",
      "\n",
      "count    722.000000\n",
      "mean       6.712888\n",
      "std       34.448055\n",
      "min        0.005000\n",
      "25%        0.500000\n",
      "50%        1.300000\n",
      "75%        2.800000\n",
      "max      530.000000\n",
      "Name: TSH, dtype: float64 \n",
      "\n",
      "count    722.000000\n",
      "mean       1.957950\n",
      "std        0.811188\n",
      "min        0.200000\n",
      "25%        1.500000\n",
      "50%        1.950000\n",
      "75%        2.300000\n",
      "max        8.500000\n",
      "Name: T3, dtype: float64 \n",
      "\n",
      "count    722.000000\n",
      "mean     105.742244\n",
      "std       35.090583\n",
      "min        2.900000\n",
      "25%       87.000000\n",
      "50%      103.000000\n",
      "75%      123.000000\n",
      "max      372.000000\n",
      "Name: TT4, dtype: float64 \n",
      "\n",
      "count    722.000000\n",
      "mean       0.987230\n",
      "std        0.190557\n",
      "min        0.250000\n",
      "25%        0.870000\n",
      "50%        0.970000\n",
      "75%        1.070000\n",
      "max        2.010000\n",
      "Name: T4U, dtype: float64 \n",
      "\n",
      "count    722.000000\n",
      "mean     108.260111\n",
      "std       32.362819\n",
      "min        2.800000\n",
      "25%       92.000000\n",
      "50%      106.000000\n",
      "75%      124.000000\n",
      "max      291.000000\n",
      "Name: FTI, dtype: float64 \n",
      "\n"
     ]
    }
   ],
   "source": [
    "columns = [\"Age\", \"TSH\", \"T3\", \"TT4\", \"T4U\", \"FTI\"]\n",
    "for column in columns:\n",
    "    print(test_data[column].describe(), \"\\n\")"
   ]
  },
  {
   "cell_type": "markdown",
   "id": "d545a9de-149a-4e88-8654-cf7feaa62f42",
   "metadata": {
    "jp-MarkdownHeadingCollapsed": true
   },
   "source": [
    "# Process Data pt. 2"
   ]
  },
  {
   "cell_type": "markdown",
   "id": "f2867f77-b5d2-4a9e-bda7-9c8ceef515cc",
   "metadata": {},
   "source": [
    "### max age val of 455 in train_data is invalid -> replace it with the mean"
   ]
  },
  {
   "cell_type": "code",
   "execution_count": 899,
   "id": "def279cd-a93e-4f0a-aa31-7d46052bf2b7",
   "metadata": {},
   "outputs": [
    {
     "data": {
      "text/plain": [
       "count    2028.000000\n",
       "mean       52.871336\n",
       "std        18.827069\n",
       "min         1.000000\n",
       "25%        37.000000\n",
       "50%        55.000000\n",
       "75%        69.000000\n",
       "max        94.000000\n",
       "Name: Age, dtype: float64"
      ]
     },
     "execution_count": 899,
     "metadata": {},
     "output_type": "execute_result"
    }
   ],
   "source": [
    "mask = train_data[\"Age\"] > 125\n",
    "train_data.loc[mask, \"Age\"] = train_data[\"Age\"].mean()\n",
    "train_data[\"Age\"].describe()"
   ]
  },
  {
   "cell_type": "markdown",
   "id": "bba049dd-b9bf-4e0d-a004-dada5652a4df",
   "metadata": {
    "jp-MarkdownHeadingCollapsed": true
   },
   "source": [
    "# Analyze Data pt. 3"
   ]
  },
  {
   "cell_type": "code",
   "execution_count": 900,
   "id": "34570e5d-c509-43d8-b630-4301298fc718",
   "metadata": {},
   "outputs": [
    {
     "name": "stdout",
     "output_type": "stream",
     "text": [
      "<class 'pandas.core.frame.DataFrame'>\n",
      "Int64Index: 2028 entries, 0 to 2799\n",
      "Data columns (total 38 columns):\n",
      " #   Column                       Non-Null Count  Dtype  \n",
      "---  ------                       --------------  -----  \n",
      " 0   Age                          2028 non-null   float64\n",
      " 1   Sex_?                        2028 non-null   uint8  \n",
      " 2   Sex_F                        2028 non-null   uint8  \n",
      " 3   Sex_M                        2028 non-null   uint8  \n",
      " 4   On Thyroxine_f               2028 non-null   uint8  \n",
      " 5   On Thyroxine_t               2028 non-null   uint8  \n",
      " 6   Query on Thyroxine_f         2028 non-null   uint8  \n",
      " 7   Query on Thyroxine_t         2028 non-null   uint8  \n",
      " 8   On Antithyroid Medication_f  2028 non-null   uint8  \n",
      " 9   On Antithyroid Medication_t  2028 non-null   uint8  \n",
      " 10  Sick_f                       2028 non-null   uint8  \n",
      " 11  Sick_t                       2028 non-null   uint8  \n",
      " 12  Pregnant_f                   2028 non-null   uint8  \n",
      " 13  Pregnant_t                   2028 non-null   uint8  \n",
      " 14  Thyroid Surgery_f            2028 non-null   uint8  \n",
      " 15  Thyroid Surgery_t            2028 non-null   uint8  \n",
      " 16  I131 Treatement_f            2028 non-null   uint8  \n",
      " 17  I131 Treatement_t            2028 non-null   uint8  \n",
      " 18  Query Hypothyriod_f          2028 non-null   uint8  \n",
      " 19  Query Hypothyriod_t          2028 non-null   uint8  \n",
      " 20  Query Hyperthyriod_f         2028 non-null   uint8  \n",
      " 21  Query Hyperthyriod_t         2028 non-null   uint8  \n",
      " 22  Lithium_f                    2028 non-null   uint8  \n",
      " 23  Lithium_t                    2028 non-null   uint8  \n",
      " 24  Goitre_f                     2028 non-null   uint8  \n",
      " 25  Goitre_t                     2028 non-null   uint8  \n",
      " 26  Tumor_f                      2028 non-null   uint8  \n",
      " 27  Tumor_t                      2028 non-null   uint8  \n",
      " 28  Hypopituitary_f              2028 non-null   uint8  \n",
      " 29  Hypopituitary_t              2028 non-null   uint8  \n",
      " 30  Psych_f                      2028 non-null   uint8  \n",
      " 31  Psych_t                      2028 non-null   uint8  \n",
      " 32  TSH                          2028 non-null   float64\n",
      " 33  T3                           2028 non-null   float64\n",
      " 34  TT4                          2028 non-null   float64\n",
      " 35  T4U                          2028 non-null   float64\n",
      " 36  FTI                          2028 non-null   float64\n",
      " 37  Result                       2028 non-null   object \n",
      "dtypes: float64(6), object(1), uint8(31)\n",
      "memory usage: 188.1+ KB\n"
     ]
    }
   ],
   "source": [
    "train_data.info()"
   ]
  },
  {
   "cell_type": "code",
   "execution_count": 901,
   "id": "03e560f2-9e46-46f5-a9b6-4c46103cec77",
   "metadata": {},
   "outputs": [
    {
     "name": "stdout",
     "output_type": "stream",
     "text": [
      "<class 'pandas.core.frame.DataFrame'>\n",
      "Int64Index: 722 entries, 1 to 971\n",
      "Data columns (total 38 columns):\n",
      " #   Column                       Non-Null Count  Dtype  \n",
      "---  ------                       --------------  -----  \n",
      " 0   Age                          722 non-null    float64\n",
      " 1   Sex_?                        722 non-null    uint8  \n",
      " 2   Sex_F                        722 non-null    uint8  \n",
      " 3   Sex_M                        722 non-null    uint8  \n",
      " 4   On Thyroxine_f               722 non-null    uint8  \n",
      " 5   On Thyroxine_t               722 non-null    uint8  \n",
      " 6   Query on Thyroxine_f         722 non-null    uint8  \n",
      " 7   Query on Thyroxine_t         722 non-null    uint8  \n",
      " 8   On Antithyroid Medication_f  722 non-null    uint8  \n",
      " 9   On Antithyroid Medication_t  722 non-null    uint8  \n",
      " 10  Sick_f                       722 non-null    uint8  \n",
      " 11  Sick_t                       722 non-null    uint8  \n",
      " 12  Pregnant_f                   722 non-null    uint8  \n",
      " 13  Pregnant_t                   722 non-null    uint8  \n",
      " 14  Thyroid Surgery_f            722 non-null    uint8  \n",
      " 15  Thyroid Surgery_t            722 non-null    uint8  \n",
      " 16  I131 Treatement_f            722 non-null    uint8  \n",
      " 17  I131 Treatement_t            722 non-null    uint8  \n",
      " 18  Query Hypothyriod_f          722 non-null    uint8  \n",
      " 19  Query Hypothyriod_t          722 non-null    uint8  \n",
      " 20  Query Hyperthyriod_f         722 non-null    uint8  \n",
      " 21  Query Hyperthyriod_t         722 non-null    uint8  \n",
      " 22  Lithium_f                    722 non-null    uint8  \n",
      " 23  Lithium_t                    722 non-null    uint8  \n",
      " 24  Goitre_f                     722 non-null    uint8  \n",
      " 25  Goitre_t                     722 non-null    uint8  \n",
      " 26  Tumor_f                      722 non-null    uint8  \n",
      " 27  Tumor_t                      722 non-null    uint8  \n",
      " 28  Hypopituitary_f              722 non-null    uint8  \n",
      " 29  Hypopituitary_t              722 non-null    int64  \n",
      " 30  Psych_f                      722 non-null    uint8  \n",
      " 31  Psych_t                      722 non-null    uint8  \n",
      " 32  TSH                          722 non-null    float64\n",
      " 33  T3                           722 non-null    float64\n",
      " 34  TT4                          722 non-null    float64\n",
      " 35  T4U                          722 non-null    float64\n",
      " 36  FTI                          722 non-null    float64\n",
      " 37  Result                       722 non-null    object \n",
      "dtypes: float64(6), int64(1), object(1), uint8(30)\n",
      "memory usage: 71.9+ KB\n"
     ]
    }
   ],
   "source": [
    "test_data.info()"
   ]
  },
  {
   "cell_type": "markdown",
   "id": "3bedc381-32b2-4408-8dd5-8def5bd56faa",
   "metadata": {},
   "source": [
    "# Train Models & Test Models"
   ]
  },
  {
   "cell_type": "markdown",
   "id": "c86dd98b-7e6d-4b49-b697-3e9833b7c6ac",
   "metadata": {},
   "source": [
    "### split the data"
   ]
  },
  {
   "cell_type": "code",
   "execution_count": 902,
   "id": "52f52d65-c012-44a2-b6a8-5912d8d85857",
   "metadata": {},
   "outputs": [
    {
     "data": {
      "text/plain": [
       "0       negative\n",
       "4       negative\n",
       "7       negative\n",
       "8       negative\n",
       "9       negative\n",
       "          ...   \n",
       "2788    negative\n",
       "2790    negative\n",
       "2793    negative\n",
       "2794    negative\n",
       "2799    negative\n",
       "Name: Result, Length: 2028, dtype: object"
      ]
     },
     "execution_count": 902,
     "metadata": {},
     "output_type": "execute_result"
    }
   ],
   "source": [
    "X_train = train_data.iloc[:,:37]\n",
    "y_train = train_data.iloc[:,37]\n",
    "X_test = test_data.iloc[:,:37]\n",
    "y_test = test_data.iloc[:,37]\n",
    "y_train"
   ]
  },
  {
   "cell_type": "markdown",
   "id": "e74c7b85-1a29-4d6a-93d0-f4370787cc88",
   "metadata": {},
   "source": [
    "### train & test models"
   ]
  },
  {
   "cell_type": "code",
   "execution_count": 903,
   "id": "e57a9320-ec65-4a09-b01c-7c245cab8675",
   "metadata": {},
   "outputs": [
    {
     "name": "stdout",
     "output_type": "stream",
     "text": [
      "Accuracy: 0.99\n",
      "\n",
      "Classification Report:\n",
      "              precision    recall  f1-score   support\n",
      "\n",
      "    T3 toxic       0.00      0.00      0.00         2\n",
      "      goitre       1.00      1.00      1.00         4\n",
      "hyperthyroid       0.83      0.50      0.62        10\n",
      "    negative       0.99      1.00      0.99       706\n",
      "\n",
      "    accuracy                           0.99       722\n",
      "   macro avg       0.71      0.62      0.65       722\n",
      "weighted avg       0.99      0.99      0.99       722\n",
      "\n"
     ]
    },
    {
     "name": "stderr",
     "output_type": "stream",
     "text": [
      "C:\\Users\\conno\\AppData\\Local\\Programs\\Python\\Python310\\lib\\site-packages\\sklearn\\metrics\\_classification.py:1471: UndefinedMetricWarning: Precision and F-score are ill-defined and being set to 0.0 in labels with no predicted samples. Use `zero_division` parameter to control this behavior.\n",
      "  _warn_prf(average, modifier, msg_start, len(result))\n",
      "C:\\Users\\conno\\AppData\\Local\\Programs\\Python\\Python310\\lib\\site-packages\\sklearn\\metrics\\_classification.py:1471: UndefinedMetricWarning: Precision and F-score are ill-defined and being set to 0.0 in labels with no predicted samples. Use `zero_division` parameter to control this behavior.\n",
      "  _warn_prf(average, modifier, msg_start, len(result))\n",
      "C:\\Users\\conno\\AppData\\Local\\Programs\\Python\\Python310\\lib\\site-packages\\sklearn\\metrics\\_classification.py:1471: UndefinedMetricWarning: Precision and F-score are ill-defined and being set to 0.0 in labels with no predicted samples. Use `zero_division` parameter to control this behavior.\n",
      "  _warn_prf(average, modifier, msg_start, len(result))\n"
     ]
    }
   ],
   "source": [
    "from sklearn.model_selection import train_test_split\n",
    "from sklearn.ensemble import RandomForestClassifier\n",
    "from sklearn.metrics import accuracy_score, classification_report\n",
    "\n",
    "# Assuming you have a dataset with features X and labels y\n",
    "# X should be a 2D array (or DataFrame), and y should be a 1D array or pandas Series\n",
    "\n",
    "# Create a RandomForestClassifier\n",
    "rf_classifier = RandomForestClassifier(n_estimators=100, random_state=42)\n",
    "\n",
    "# Train the classifier on the training set\n",
    "rf_classifier.fit(X_train, y_train)\n",
    "\n",
    "# Make predictions on the test set\n",
    "y_pred = rf_classifier.predict(X_test)\n",
    "\n",
    "# Evaluate the model\n",
    "accuracy = accuracy_score(y_test, y_pred)\n",
    "print(f'Accuracy: {accuracy:.2f}')\n",
    "\n",
    "# Print classification report\n",
    "print('\\nClassification Report:')\n",
    "print(classification_report(y_test, y_pred))"
   ]
  },
  {
   "cell_type": "code",
   "execution_count": 904,
   "id": "b04c1d90-7ae6-41bf-9821-bde92bb264b6",
   "metadata": {},
   "outputs": [
    {
     "name": "stdout",
     "output_type": "stream",
     "text": [
      "Best Model Accuracy: 0.99\n",
      "\n",
      "Best Hyperparameters:\n",
      "{'max_depth': 10, 'min_samples_leaf': 2, 'min_samples_split': 10, 'n_estimators': 100}\n",
      "\n",
      "Classification Report:\n",
      "              precision    recall  f1-score   support\n",
      "\n",
      "    T3 toxic       0.00      0.00      0.00         2\n",
      "      goitre       1.00      1.00      1.00         4\n",
      "hyperthyroid       0.78      0.70      0.74        10\n",
      "    negative       0.99      1.00      1.00       706\n",
      "\n",
      "    accuracy                           0.99       722\n",
      "   macro avg       0.69      0.67      0.68       722\n",
      "weighted avg       0.99      0.99      0.99       722\n",
      "\n"
     ]
    },
    {
     "name": "stderr",
     "output_type": "stream",
     "text": [
      "C:\\Users\\conno\\AppData\\Local\\Programs\\Python\\Python310\\lib\\site-packages\\sklearn\\metrics\\_classification.py:1471: UndefinedMetricWarning: Precision and F-score are ill-defined and being set to 0.0 in labels with no predicted samples. Use `zero_division` parameter to control this behavior.\n",
      "  _warn_prf(average, modifier, msg_start, len(result))\n",
      "C:\\Users\\conno\\AppData\\Local\\Programs\\Python\\Python310\\lib\\site-packages\\sklearn\\metrics\\_classification.py:1471: UndefinedMetricWarning: Precision and F-score are ill-defined and being set to 0.0 in labels with no predicted samples. Use `zero_division` parameter to control this behavior.\n",
      "  _warn_prf(average, modifier, msg_start, len(result))\n",
      "C:\\Users\\conno\\AppData\\Local\\Programs\\Python\\Python310\\lib\\site-packages\\sklearn\\metrics\\_classification.py:1471: UndefinedMetricWarning: Precision and F-score are ill-defined and being set to 0.0 in labels with no predicted samples. Use `zero_division` parameter to control this behavior.\n",
      "  _warn_prf(average, modifier, msg_start, len(result))\n"
     ]
    }
   ],
   "source": [
    "from sklearn.model_selection import train_test_split, GridSearchCV\n",
    "from sklearn.ensemble import RandomForestClassifier\n",
    "from sklearn.metrics import accuracy_score, classification_report\n",
    "\n",
    "# Assuming your target variable is 'y' with categorical labels\n",
    "# X should be a 2D array (or DataFrame), and y should be a 1D array or pandas Series\n",
    "\n",
    "# Create a RandomForestClassifier\n",
    "rf_classifier = RandomForestClassifier(class_weight=\"balanced\")\n",
    "\n",
    "# Define the hyperparameter grid to search\n",
    "param_grid = {\n",
    "    'n_estimators': [50, 100, 200],\n",
    "    'max_depth': [None, 10, 20],\n",
    "    'min_samples_split': [2, 5, 10],\n",
    "    'min_samples_leaf': [1, 2, 4],\n",
    "}\n",
    "\n",
    "# Create the GridSearchCV object\n",
    "grid_search = GridSearchCV(rf_classifier, param_grid, cv=5, scoring='accuracy')\n",
    "\n",
    "# Fit the model to the training data\n",
    "grid_search.fit(X_train, y_train)\n",
    "\n",
    "# Get the best parameters and the best model\n",
    "best_params = grid_search.best_params_\n",
    "best_model = grid_search.best_estimator_\n",
    "\n",
    "# Make predictions on the test set using the best model\n",
    "y_pred = best_model.predict(X_test)\n",
    "\n",
    "# Evaluate the best model\n",
    "accuracy = accuracy_score(y_test, y_pred)\n",
    "print(f'Best Model Accuracy: {accuracy:.2f}')\n",
    "\n",
    "# Print best parameters\n",
    "print('\\nBest Hyperparameters:')\n",
    "print(best_params)\n",
    "\n",
    "# Print classification report\n",
    "print('\\nClassification Report:')\n",
    "print(classification_report(y_test, y_pred))"
   ]
  },
  {
   "cell_type": "code",
   "execution_count": 905,
   "id": "952019b0-b02a-4a18-a7f2-81172c272bd9",
   "metadata": {},
   "outputs": [
    {
     "name": "stdout",
     "output_type": "stream",
     "text": [
      "Accuracy: 0.99\n",
      "\n",
      "Classification Report:\n",
      "              precision    recall  f1-score   support\n",
      "\n",
      "    T3 toxic       0.50      0.50      0.50         2\n",
      "      goitre       1.00      0.75      0.86         4\n",
      "hyperthyroid       0.78      0.70      0.74        10\n",
      "    negative       0.99      1.00      0.99       706\n",
      "\n",
      "    accuracy                           0.99       722\n",
      "   macro avg       0.82      0.74      0.77       722\n",
      "weighted avg       0.99      0.99      0.99       722\n",
      "\n"
     ]
    }
   ],
   "source": [
    "from sklearn.ensemble import GradientBoostingClassifier\n",
    "from sklearn.model_selection import train_test_split\n",
    "from sklearn.metrics import accuracy_score, classification_report\n",
    "\n",
    "# Create a GradientBoostingClassifier\n",
    "gb_classifier = GradientBoostingClassifier(n_estimators=100, random_state=42)\n",
    "\n",
    "# Train the classifier on the training set\n",
    "gb_classifier.fit(X_train, y_train)\n",
    "\n",
    "# Make predictions on the test set\n",
    "y_pred = gb_classifier.predict(X_test)\n",
    "\n",
    "# Evaluate the model\n",
    "accuracy = accuracy_score(y_test, y_pred)\n",
    "print(f'Accuracy: {accuracy:.2f}')\n",
    "\n",
    "# Print classification report\n",
    "print('\\nClassification Report:')\n",
    "print(classification_report(y_test, y_pred))"
   ]
  },
  {
   "cell_type": "code",
   "execution_count": 914,
   "id": "79d6199f-1523-4d37-a023-f411163e535a",
   "metadata": {},
   "outputs": [
    {
     "name": "stdout",
     "output_type": "stream",
     "text": [
      "Best Hyperparameters: {'learning_rate': 0.08, 'max_depth': 4, 'n_estimators': 90}\n",
      "Accuracy: 0.99\n",
      "\n",
      "Classification Report:\n",
      "              precision    recall  f1-score   support\n",
      "\n",
      "    T3 toxic       0.25      0.50      0.33         2\n",
      "      goitre       1.00      0.75      0.86         4\n",
      "hyperthyroid       0.78      0.70      0.74        10\n",
      "    negative       0.99      0.99      0.99       706\n",
      "\n",
      "    accuracy                           0.99       722\n",
      "   macro avg       0.76      0.74      0.73       722\n",
      "weighted avg       0.99      0.99      0.99       722\n",
      "\n"
     ]
    }
   ],
   "source": [
    "from sklearn.ensemble import GradientBoostingClassifier\n",
    "from sklearn.model_selection import train_test_split, GridSearchCV\n",
    "from sklearn.metrics import accuracy_score, classification_report\n",
    "\n",
    "# Create a GradientBoostingClassifier\n",
    "gb_classifier = GradientBoostingClassifier(random_state=42)\n",
    "\n",
    "# Define the hyperparameter grid to search\n",
    "param_grid = {\n",
    "    'n_estimators': [90, 100, 110],\n",
    "    'learning_rate': [0.08, 0.1, 0.12],\n",
    "    'max_depth': [2, 3, 4]\n",
    "}\n",
    "\n",
    "# Create a GridSearchCV object\n",
    "grid_search = GridSearchCV(estimator=gb_classifier, param_grid=param_grid, cv=5, scoring='accuracy', n_jobs=-1)\n",
    "\n",
    "# Perform grid search on the training set\n",
    "grid_search.fit(X_train, y_train)\n",
    "\n",
    "# Get the best hyperparameters\n",
    "best_params = grid_search.best_params_\n",
    "print(f\"Best Hyperparameters: {best_params}\")\n",
    "\n",
    "# Make predictions on the test set using the best model\n",
    "best_model = grid_search.best_estimator_\n",
    "y_pred = best_model.predict(X_test)\n",
    "\n",
    "# Evaluate the best model\n",
    "accuracy = accuracy_score(y_test, y_pred)\n",
    "print(f'Accuracy: {accuracy:.2f}')\n",
    "\n",
    "# Print classification report\n",
    "print('\\nClassification Report:')\n",
    "print(classification_report(y_test, y_pred))"
   ]
  },
  {
   "cell_type": "code",
   "execution_count": 907,
   "id": "f3dde71b-191c-4b57-be18-81edaedda3e1",
   "metadata": {},
   "outputs": [
    {
     "name": "stdout",
     "output_type": "stream",
     "text": [
      "Accuracy: 0.99\n",
      "\n",
      "Classification Report:\n",
      "              precision    recall  f1-score   support\n",
      "\n",
      "    T3 toxic       0.00      0.00      0.00         2\n",
      "      goitre       1.00      0.75      0.86         4\n",
      "hyperthyroid       0.90      0.90      0.90        10\n",
      "    negative       0.99      1.00      1.00       706\n",
      "\n",
      "    accuracy                           0.99       722\n",
      "   macro avg       0.72      0.66      0.69       722\n",
      "weighted avg       0.99      0.99      0.99       722\n",
      "\n"
     ]
    },
    {
     "name": "stderr",
     "output_type": "stream",
     "text": [
      "C:\\Users\\conno\\AppData\\Local\\Programs\\Python\\Python310\\lib\\site-packages\\sklearn\\metrics\\_classification.py:1471: UndefinedMetricWarning: Precision and F-score are ill-defined and being set to 0.0 in labels with no predicted samples. Use `zero_division` parameter to control this behavior.\n",
      "  _warn_prf(average, modifier, msg_start, len(result))\n",
      "C:\\Users\\conno\\AppData\\Local\\Programs\\Python\\Python310\\lib\\site-packages\\sklearn\\metrics\\_classification.py:1471: UndefinedMetricWarning: Precision and F-score are ill-defined and being set to 0.0 in labels with no predicted samples. Use `zero_division` parameter to control this behavior.\n",
      "  _warn_prf(average, modifier, msg_start, len(result))\n",
      "C:\\Users\\conno\\AppData\\Local\\Programs\\Python\\Python310\\lib\\site-packages\\sklearn\\metrics\\_classification.py:1471: UndefinedMetricWarning: Precision and F-score are ill-defined and being set to 0.0 in labels with no predicted samples. Use `zero_division` parameter to control this behavior.\n",
      "  _warn_prf(average, modifier, msg_start, len(result))\n"
     ]
    }
   ],
   "source": [
    "import pandas as pd\n",
    "from sklearn.model_selection import train_test_split\n",
    "from sklearn.ensemble import RandomForestClassifier\n",
    "from sklearn.metrics import accuracy_score, classification_report\n",
    "from imblearn.over_sampling import SMOTE\n",
    "\n",
    "# Create a SMOTE object\n",
    "smote = SMOTE(random_state=42)\n",
    "\n",
    "# Apply SMOTE to the training set\n",
    "X_train_resampled, y_train_resampled = smote.fit_resample(X_train, y_train)\n",
    "\n",
    "# Create and train a RandomForestClassifier on the resampled training set\n",
    "rf_classifier = RandomForestClassifier(n_estimators=100, random_state=42)\n",
    "rf_classifier.fit(X_train_resampled, y_train_resampled)\n",
    "\n",
    "# Make predictions on the test set\n",
    "y_pred = rf_classifier.predict(X_test)\n",
    "\n",
    "# Evaluate the model\n",
    "accuracy = accuracy_score(y_test, y_pred)\n",
    "print(f'Accuracy: {accuracy:.2f}')\n",
    "\n",
    "# Print classification report\n",
    "print('\\nClassification Report:')\n",
    "print(classification_report(y_test, y_pred))"
   ]
  },
  {
   "cell_type": "code",
   "execution_count": 908,
   "id": "7b113504-92e2-4d46-9299-741c2fb90958",
   "metadata": {},
   "outputs": [
    {
     "name": "stdout",
     "output_type": "stream",
     "text": [
      "Accuracy: 0.99\n",
      "\n",
      "Classification Report:\n",
      "              precision    recall  f1-score   support\n",
      "\n",
      "    T3 toxic       0.00      0.00      0.00         2\n",
      "      goitre       1.00      1.00      1.00         4\n",
      "hyperthyroid       0.83      1.00      0.91        10\n",
      "    negative       1.00      1.00      1.00       706\n",
      "\n",
      "    accuracy                           0.99       722\n",
      "   macro avg       0.71      0.75      0.73       722\n",
      "weighted avg       0.99      0.99      0.99       722\n",
      "\n"
     ]
    }
   ],
   "source": [
    "import pandas as pd\n",
    "from sklearn.model_selection import train_test_split\n",
    "from sklearn.ensemble import GradientBoostingClassifier\n",
    "from sklearn.metrics import accuracy_score, classification_report\n",
    "from imblearn.over_sampling import SMOTE\n",
    "\n",
    "# Create a SMOTE object\n",
    "smote = SMOTE(random_state=42)\n",
    "\n",
    "# Apply SMOTE to the training set\n",
    "X_train_resampled, y_train_resampled = smote.fit_resample(X_train, y_train)\n",
    "\n",
    "# Create and train a GradientBoostingClassifier on the resampled training set\n",
    "gb_classifier = GradientBoostingClassifier(n_estimators=100, random_state=42)\n",
    "gb_classifier.fit(X_train_resampled, y_train_resampled)\n",
    "\n",
    "# Make predictions on the test set\n",
    "y_pred = gb_classifier.predict(X_test)\n",
    "\n",
    "# Evaluate the model\n",
    "accuracy = accuracy_score(y_test, y_pred)\n",
    "print(f'Accuracy: {accuracy:.2f}')\n",
    "\n",
    "# Print classification report\n",
    "print('\\nClassification Report:')\n",
    "print(classification_report(y_test, y_pred))"
   ]
  }
 ],
 "metadata": {
  "kernelspec": {
   "display_name": "Python 3 (ipykernel)",
   "language": "python",
   "name": "python3"
  },
  "language_info": {
   "codemirror_mode": {
    "name": "ipython",
    "version": 3
   },
   "file_extension": ".py",
   "mimetype": "text/x-python",
   "name": "python",
   "nbconvert_exporter": "python",
   "pygments_lexer": "ipython3",
   "version": "3.10.10"
  }
 },
 "nbformat": 4,
 "nbformat_minor": 5
}
